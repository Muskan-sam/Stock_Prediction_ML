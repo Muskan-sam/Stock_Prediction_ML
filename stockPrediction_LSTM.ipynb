{
 "cells": [
  {
   "cell_type": "markdown",
   "metadata": {},
   "source": [
    "# dataset @ https://finance.yahoo.com/quote/NTAP/history/"
   ]
  },
  {
   "cell_type": "code",
   "execution_count": 1,
   "metadata": {},
   "outputs": [
    {
     "data": {
      "text/html": [
       "<div>\n",
       "<style scoped>\n",
       "    .dataframe tbody tr th:only-of-type {\n",
       "        vertical-align: middle;\n",
       "    }\n",
       "\n",
       "    .dataframe tbody tr th {\n",
       "        vertical-align: top;\n",
       "    }\n",
       "\n",
       "    .dataframe thead th {\n",
       "        text-align: right;\n",
       "    }\n",
       "</style>\n",
       "<table border=\"1\" class=\"dataframe\">\n",
       "  <thead>\n",
       "    <tr style=\"text-align: right;\">\n",
       "      <th></th>\n",
       "      <th>Date</th>\n",
       "      <th>Open</th>\n",
       "      <th>High</th>\n",
       "      <th>Low</th>\n",
       "      <th>Close</th>\n",
       "      <th>Adj Close</th>\n",
       "      <th>Volume</th>\n",
       "    </tr>\n",
       "  </thead>\n",
       "  <tbody>\n",
       "    <tr>\n",
       "      <th>0</th>\n",
       "      <td>1995-11-21</td>\n",
       "      <td>1.078125</td>\n",
       "      <td>1.328125</td>\n",
       "      <td>1.078125</td>\n",
       "      <td>1.281250</td>\n",
       "      <td>0.994211</td>\n",
       "      <td>51412800</td>\n",
       "    </tr>\n",
       "    <tr>\n",
       "      <th>1</th>\n",
       "      <td>1995-11-22</td>\n",
       "      <td>1.281250</td>\n",
       "      <td>1.609375</td>\n",
       "      <td>1.265625</td>\n",
       "      <td>1.562500</td>\n",
       "      <td>1.212453</td>\n",
       "      <td>11921600</td>\n",
       "    </tr>\n",
       "    <tr>\n",
       "      <th>2</th>\n",
       "      <td>1995-11-24</td>\n",
       "      <td>1.562500</td>\n",
       "      <td>1.703125</td>\n",
       "      <td>1.562500</td>\n",
       "      <td>1.687500</td>\n",
       "      <td>1.309449</td>\n",
       "      <td>2419200</td>\n",
       "    </tr>\n",
       "    <tr>\n",
       "      <th>3</th>\n",
       "      <td>1995-11-27</td>\n",
       "      <td>1.781250</td>\n",
       "      <td>1.812500</td>\n",
       "      <td>1.531250</td>\n",
       "      <td>1.578125</td>\n",
       "      <td>1.224577</td>\n",
       "      <td>6720000</td>\n",
       "    </tr>\n",
       "    <tr>\n",
       "      <th>4</th>\n",
       "      <td>1995-11-28</td>\n",
       "      <td>1.578125</td>\n",
       "      <td>1.609375</td>\n",
       "      <td>1.562500</td>\n",
       "      <td>1.593750</td>\n",
       "      <td>1.236702</td>\n",
       "      <td>3451200</td>\n",
       "    </tr>\n",
       "    <tr>\n",
       "      <th>...</th>\n",
       "      <td>...</td>\n",
       "      <td>...</td>\n",
       "      <td>...</td>\n",
       "      <td>...</td>\n",
       "      <td>...</td>\n",
       "      <td>...</td>\n",
       "      <td>...</td>\n",
       "    </tr>\n",
       "    <tr>\n",
       "      <th>6988</th>\n",
       "      <td>2023-08-28</td>\n",
       "      <td>75.250000</td>\n",
       "      <td>76.139999</td>\n",
       "      <td>75.089996</td>\n",
       "      <td>76.010002</td>\n",
       "      <td>76.010002</td>\n",
       "      <td>1376500</td>\n",
       "    </tr>\n",
       "    <tr>\n",
       "      <th>6989</th>\n",
       "      <td>2023-08-29</td>\n",
       "      <td>75.900002</td>\n",
       "      <td>76.820000</td>\n",
       "      <td>75.669998</td>\n",
       "      <td>76.419998</td>\n",
       "      <td>76.419998</td>\n",
       "      <td>1354300</td>\n",
       "    </tr>\n",
       "    <tr>\n",
       "      <th>6990</th>\n",
       "      <td>2023-08-30</td>\n",
       "      <td>76.279999</td>\n",
       "      <td>76.550003</td>\n",
       "      <td>75.510002</td>\n",
       "      <td>76.430000</td>\n",
       "      <td>76.430000</td>\n",
       "      <td>1784500</td>\n",
       "    </tr>\n",
       "    <tr>\n",
       "      <th>6991</th>\n",
       "      <td>2023-08-31</td>\n",
       "      <td>76.809998</td>\n",
       "      <td>76.900002</td>\n",
       "      <td>76.190002</td>\n",
       "      <td>76.699997</td>\n",
       "      <td>76.699997</td>\n",
       "      <td>3068800</td>\n",
       "    </tr>\n",
       "    <tr>\n",
       "      <th>6992</th>\n",
       "      <td>2023-09-01</td>\n",
       "      <td>77.459999</td>\n",
       "      <td>77.970001</td>\n",
       "      <td>77.139999</td>\n",
       "      <td>77.599998</td>\n",
       "      <td>77.599998</td>\n",
       "      <td>2306300</td>\n",
       "    </tr>\n",
       "  </tbody>\n",
       "</table>\n",
       "<p>6993 rows × 7 columns</p>\n",
       "</div>"
      ],
      "text/plain": [
       "            Date       Open       High        Low      Close  Adj Close  \\\n",
       "0     1995-11-21   1.078125   1.328125   1.078125   1.281250   0.994211   \n",
       "1     1995-11-22   1.281250   1.609375   1.265625   1.562500   1.212453   \n",
       "2     1995-11-24   1.562500   1.703125   1.562500   1.687500   1.309449   \n",
       "3     1995-11-27   1.781250   1.812500   1.531250   1.578125   1.224577   \n",
       "4     1995-11-28   1.578125   1.609375   1.562500   1.593750   1.236702   \n",
       "...          ...        ...        ...        ...        ...        ...   \n",
       "6988  2023-08-28  75.250000  76.139999  75.089996  76.010002  76.010002   \n",
       "6989  2023-08-29  75.900002  76.820000  75.669998  76.419998  76.419998   \n",
       "6990  2023-08-30  76.279999  76.550003  75.510002  76.430000  76.430000   \n",
       "6991  2023-08-31  76.809998  76.900002  76.190002  76.699997  76.699997   \n",
       "6992  2023-09-01  77.459999  77.970001  77.139999  77.599998  77.599998   \n",
       "\n",
       "        Volume  \n",
       "0     51412800  \n",
       "1     11921600  \n",
       "2      2419200  \n",
       "3      6720000  \n",
       "4      3451200  \n",
       "...        ...  \n",
       "6988   1376500  \n",
       "6989   1354300  \n",
       "6990   1784500  \n",
       "6991   3068800  \n",
       "6992   2306300  \n",
       "\n",
       "[6993 rows x 7 columns]"
      ]
     },
     "execution_count": 1,
     "metadata": {},
     "output_type": "execute_result"
    }
   ],
   "source": [
    "import pandas as pd\n",
    "\n",
    "df = pd.read_csv('NTAP.csv')\n",
    "df"
   ]
  },
  {
   "cell_type": "code",
   "execution_count": 2,
   "metadata": {},
   "outputs": [
    {
     "data": {
      "text/html": [
       "<div>\n",
       "<style scoped>\n",
       "    .dataframe tbody tr th:only-of-type {\n",
       "        vertical-align: middle;\n",
       "    }\n",
       "\n",
       "    .dataframe tbody tr th {\n",
       "        vertical-align: top;\n",
       "    }\n",
       "\n",
       "    .dataframe thead th {\n",
       "        text-align: right;\n",
       "    }\n",
       "</style>\n",
       "<table border=\"1\" class=\"dataframe\">\n",
       "  <thead>\n",
       "    <tr style=\"text-align: right;\">\n",
       "      <th></th>\n",
       "      <th>Date</th>\n",
       "      <th>Close</th>\n",
       "    </tr>\n",
       "  </thead>\n",
       "  <tbody>\n",
       "    <tr>\n",
       "      <th>0</th>\n",
       "      <td>1995-11-21</td>\n",
       "      <td>1.281250</td>\n",
       "    </tr>\n",
       "    <tr>\n",
       "      <th>1</th>\n",
       "      <td>1995-11-22</td>\n",
       "      <td>1.562500</td>\n",
       "    </tr>\n",
       "    <tr>\n",
       "      <th>2</th>\n",
       "      <td>1995-11-24</td>\n",
       "      <td>1.687500</td>\n",
       "    </tr>\n",
       "    <tr>\n",
       "      <th>3</th>\n",
       "      <td>1995-11-27</td>\n",
       "      <td>1.578125</td>\n",
       "    </tr>\n",
       "    <tr>\n",
       "      <th>4</th>\n",
       "      <td>1995-11-28</td>\n",
       "      <td>1.593750</td>\n",
       "    </tr>\n",
       "    <tr>\n",
       "      <th>...</th>\n",
       "      <td>...</td>\n",
       "      <td>...</td>\n",
       "    </tr>\n",
       "    <tr>\n",
       "      <th>6988</th>\n",
       "      <td>2023-08-28</td>\n",
       "      <td>76.010002</td>\n",
       "    </tr>\n",
       "    <tr>\n",
       "      <th>6989</th>\n",
       "      <td>2023-08-29</td>\n",
       "      <td>76.419998</td>\n",
       "    </tr>\n",
       "    <tr>\n",
       "      <th>6990</th>\n",
       "      <td>2023-08-30</td>\n",
       "      <td>76.430000</td>\n",
       "    </tr>\n",
       "    <tr>\n",
       "      <th>6991</th>\n",
       "      <td>2023-08-31</td>\n",
       "      <td>76.699997</td>\n",
       "    </tr>\n",
       "    <tr>\n",
       "      <th>6992</th>\n",
       "      <td>2023-09-01</td>\n",
       "      <td>77.599998</td>\n",
       "    </tr>\n",
       "  </tbody>\n",
       "</table>\n",
       "<p>6993 rows × 2 columns</p>\n",
       "</div>"
      ],
      "text/plain": [
       "            Date      Close\n",
       "0     1995-11-21   1.281250\n",
       "1     1995-11-22   1.562500\n",
       "2     1995-11-24   1.687500\n",
       "3     1995-11-27   1.578125\n",
       "4     1995-11-28   1.593750\n",
       "...          ...        ...\n",
       "6988  2023-08-28  76.010002\n",
       "6989  2023-08-29  76.419998\n",
       "6990  2023-08-30  76.430000\n",
       "6991  2023-08-31  76.699997\n",
       "6992  2023-09-01  77.599998\n",
       "\n",
       "[6993 rows x 2 columns]"
      ]
     },
     "execution_count": 2,
     "metadata": {},
     "output_type": "execute_result"
    }
   ],
   "source": [
    "df = df[['Date', 'Close']]\n",
    "df"
   ]
  },
  {
   "cell_type": "code",
   "execution_count": 3,
   "metadata": {},
   "outputs": [
    {
     "data": {
      "text/plain": [
       "0       1995-11-21\n",
       "1       1995-11-22\n",
       "2       1995-11-24\n",
       "3       1995-11-27\n",
       "4       1995-11-28\n",
       "           ...    \n",
       "6988    2023-08-28\n",
       "6989    2023-08-29\n",
       "6990    2023-08-30\n",
       "6991    2023-08-31\n",
       "6992    2023-09-01\n",
       "Name: Date, Length: 6993, dtype: object"
      ]
     },
     "execution_count": 3,
     "metadata": {},
     "output_type": "execute_result"
    }
   ],
   "source": [
    "df['Date']"
   ]
  },
  {
   "cell_type": "code",
   "execution_count": 4,
   "metadata": {},
   "outputs": [
    {
     "data": {
      "text/plain": [
       "datetime.datetime(1995, 11, 21, 0, 0)"
      ]
     },
     "execution_count": 4,
     "metadata": {},
     "output_type": "execute_result"
    }
   ],
   "source": [
    "import datetime\n",
    "\n",
    "def str_to_datetime(s):\n",
    "  split = s.split('-')\n",
    "  year, month, day = int(split[0]), int(split[1]), int(split[2])\n",
    "  return datetime.datetime(year=year, month=month, day=day)\n",
    "\n",
    "datetime_object = str_to_datetime('1995-11-21')\n",
    "datetime_object\n"
   ]
  },
  {
   "cell_type": "code",
   "execution_count": 5,
   "metadata": {},
   "outputs": [
    {
     "data": {
      "text/html": [
       "<div>\n",
       "<style scoped>\n",
       "    .dataframe tbody tr th:only-of-type {\n",
       "        vertical-align: middle;\n",
       "    }\n",
       "\n",
       "    .dataframe tbody tr th {\n",
       "        vertical-align: top;\n",
       "    }\n",
       "\n",
       "    .dataframe thead th {\n",
       "        text-align: right;\n",
       "    }\n",
       "</style>\n",
       "<table border=\"1\" class=\"dataframe\">\n",
       "  <thead>\n",
       "    <tr style=\"text-align: right;\">\n",
       "      <th></th>\n",
       "      <th>Date</th>\n",
       "      <th>Close</th>\n",
       "    </tr>\n",
       "  </thead>\n",
       "  <tbody>\n",
       "    <tr>\n",
       "      <th>0</th>\n",
       "      <td>1995-11-21</td>\n",
       "      <td>1.281250</td>\n",
       "    </tr>\n",
       "    <tr>\n",
       "      <th>1</th>\n",
       "      <td>1995-11-22</td>\n",
       "      <td>1.562500</td>\n",
       "    </tr>\n",
       "    <tr>\n",
       "      <th>2</th>\n",
       "      <td>1995-11-24</td>\n",
       "      <td>1.687500</td>\n",
       "    </tr>\n",
       "    <tr>\n",
       "      <th>3</th>\n",
       "      <td>1995-11-27</td>\n",
       "      <td>1.578125</td>\n",
       "    </tr>\n",
       "    <tr>\n",
       "      <th>4</th>\n",
       "      <td>1995-11-28</td>\n",
       "      <td>1.593750</td>\n",
       "    </tr>\n",
       "    <tr>\n",
       "      <th>...</th>\n",
       "      <td>...</td>\n",
       "      <td>...</td>\n",
       "    </tr>\n",
       "    <tr>\n",
       "      <th>6988</th>\n",
       "      <td>2023-08-28</td>\n",
       "      <td>76.010002</td>\n",
       "    </tr>\n",
       "    <tr>\n",
       "      <th>6989</th>\n",
       "      <td>2023-08-29</td>\n",
       "      <td>76.419998</td>\n",
       "    </tr>\n",
       "    <tr>\n",
       "      <th>6990</th>\n",
       "      <td>2023-08-30</td>\n",
       "      <td>76.430000</td>\n",
       "    </tr>\n",
       "    <tr>\n",
       "      <th>6991</th>\n",
       "      <td>2023-08-31</td>\n",
       "      <td>76.699997</td>\n",
       "    </tr>\n",
       "    <tr>\n",
       "      <th>6992</th>\n",
       "      <td>2023-09-01</td>\n",
       "      <td>77.599998</td>\n",
       "    </tr>\n",
       "  </tbody>\n",
       "</table>\n",
       "<p>6993 rows × 2 columns</p>\n",
       "</div>"
      ],
      "text/plain": [
       "            Date      Close\n",
       "0     1995-11-21   1.281250\n",
       "1     1995-11-22   1.562500\n",
       "2     1995-11-24   1.687500\n",
       "3     1995-11-27   1.578125\n",
       "4     1995-11-28   1.593750\n",
       "...          ...        ...\n",
       "6988  2023-08-28  76.010002\n",
       "6989  2023-08-29  76.419998\n",
       "6990  2023-08-30  76.430000\n",
       "6991  2023-08-31  76.699997\n",
       "6992  2023-09-01  77.599998\n",
       "\n",
       "[6993 rows x 2 columns]"
      ]
     },
     "execution_count": 5,
     "metadata": {},
     "output_type": "execute_result"
    }
   ],
   "source": [
    "df"
   ]
  },
  {
   "cell_type": "code",
   "execution_count": 6,
   "metadata": {},
   "outputs": [
    {
     "name": "stderr",
     "output_type": "stream",
     "text": [
      "<ipython-input-6-f6fc52bb0fa5>:1: SettingWithCopyWarning: \n",
      "A value is trying to be set on a copy of a slice from a DataFrame.\n",
      "Try using .loc[row_indexer,col_indexer] = value instead\n",
      "\n",
      "See the caveats in the documentation: https://pandas.pydata.org/pandas-docs/stable/user_guide/indexing.html#returning-a-view-versus-a-copy\n",
      "  df['Date'] = df['Date'].apply(str_to_datetime)\n"
     ]
    },
    {
     "data": {
      "text/plain": [
       "0      1995-11-21\n",
       "1      1995-11-22\n",
       "2      1995-11-24\n",
       "3      1995-11-27\n",
       "4      1995-11-28\n",
       "          ...    \n",
       "6988   2023-08-28\n",
       "6989   2023-08-29\n",
       "6990   2023-08-30\n",
       "6991   2023-08-31\n",
       "6992   2023-09-01\n",
       "Name: Date, Length: 6993, dtype: datetime64[ns]"
      ]
     },
     "execution_count": 6,
     "metadata": {},
     "output_type": "execute_result"
    }
   ],
   "source": [
    "df['Date'] = df['Date'].apply(str_to_datetime)\n",
    "df['Date']"
   ]
  },
  {
   "cell_type": "code",
   "execution_count": 7,
   "metadata": {},
   "outputs": [
    {
     "data": {
      "text/html": [
       "<div>\n",
       "<style scoped>\n",
       "    .dataframe tbody tr th:only-of-type {\n",
       "        vertical-align: middle;\n",
       "    }\n",
       "\n",
       "    .dataframe tbody tr th {\n",
       "        vertical-align: top;\n",
       "    }\n",
       "\n",
       "    .dataframe thead th {\n",
       "        text-align: right;\n",
       "    }\n",
       "</style>\n",
       "<table border=\"1\" class=\"dataframe\">\n",
       "  <thead>\n",
       "    <tr style=\"text-align: right;\">\n",
       "      <th></th>\n",
       "      <th>Close</th>\n",
       "    </tr>\n",
       "    <tr>\n",
       "      <th>Date</th>\n",
       "      <th></th>\n",
       "    </tr>\n",
       "  </thead>\n",
       "  <tbody>\n",
       "    <tr>\n",
       "      <th>1995-11-21</th>\n",
       "      <td>1.281250</td>\n",
       "    </tr>\n",
       "    <tr>\n",
       "      <th>1995-11-22</th>\n",
       "      <td>1.562500</td>\n",
       "    </tr>\n",
       "    <tr>\n",
       "      <th>1995-11-24</th>\n",
       "      <td>1.687500</td>\n",
       "    </tr>\n",
       "    <tr>\n",
       "      <th>1995-11-27</th>\n",
       "      <td>1.578125</td>\n",
       "    </tr>\n",
       "    <tr>\n",
       "      <th>1995-11-28</th>\n",
       "      <td>1.593750</td>\n",
       "    </tr>\n",
       "    <tr>\n",
       "      <th>...</th>\n",
       "      <td>...</td>\n",
       "    </tr>\n",
       "    <tr>\n",
       "      <th>2023-08-28</th>\n",
       "      <td>76.010002</td>\n",
       "    </tr>\n",
       "    <tr>\n",
       "      <th>2023-08-29</th>\n",
       "      <td>76.419998</td>\n",
       "    </tr>\n",
       "    <tr>\n",
       "      <th>2023-08-30</th>\n",
       "      <td>76.430000</td>\n",
       "    </tr>\n",
       "    <tr>\n",
       "      <th>2023-08-31</th>\n",
       "      <td>76.699997</td>\n",
       "    </tr>\n",
       "    <tr>\n",
       "      <th>2023-09-01</th>\n",
       "      <td>77.599998</td>\n",
       "    </tr>\n",
       "  </tbody>\n",
       "</table>\n",
       "<p>6993 rows × 1 columns</p>\n",
       "</div>"
      ],
      "text/plain": [
       "                Close\n",
       "Date                 \n",
       "1995-11-21   1.281250\n",
       "1995-11-22   1.562500\n",
       "1995-11-24   1.687500\n",
       "1995-11-27   1.578125\n",
       "1995-11-28   1.593750\n",
       "...               ...\n",
       "2023-08-28  76.010002\n",
       "2023-08-29  76.419998\n",
       "2023-08-30  76.430000\n",
       "2023-08-31  76.699997\n",
       "2023-09-01  77.599998\n",
       "\n",
       "[6993 rows x 1 columns]"
      ]
     },
     "execution_count": 7,
     "metadata": {},
     "output_type": "execute_result"
    }
   ],
   "source": [
    "df.index = df.pop('Date')\n",
    "df"
   ]
  },
  {
   "cell_type": "code",
   "execution_count": 8,
   "metadata": {},
   "outputs": [
    {
     "data": {
      "text/plain": [
       "[<matplotlib.lines.Line2D at 0x26e6b8f4430>]"
      ]
     },
     "execution_count": 8,
     "metadata": {},
     "output_type": "execute_result"
    },
    {
     "data": {
      "image/png": "[encoded data removed]",
      "text/plain": [
       "<Figure size 432x288 with 1 Axes>"
      ]
     },
     "metadata": {
      "needs_background": "light"
     },
     "output_type": "display_data"
    }
   ],
   "source": [
    "import matplotlib.pyplot as plt\n",
    "\n",
    "plt.plot(df.index, df['Close'])\n"
   ]
  },
  {
   "cell_type": "code",
   "execution_count": 9,
   "metadata": {},
   "outputs": [
    {
     "data": {
      "text/html": [
       "<div>\n",
       "<style scoped>\n",
       "    .dataframe tbody tr th:only-of-type {\n",
       "        vertical-align: middle;\n",
       "    }\n",
       "\n",
       "    .dataframe tbody tr th {\n",
       "        vertical-align: top;\n",
       "    }\n",
       "\n",
       "    .dataframe thead th {\n",
       "        text-align: right;\n",
       "    }\n",
       "</style>\n",
       "<table border=\"1\" class=\"dataframe\">\n",
       "  <thead>\n",
       "    <tr style=\"text-align: right;\">\n",
       "      <th></th>\n",
       "      <th>Target Date</th>\n",
       "      <th>Target-3</th>\n",
       "      <th>Target-2</th>\n",
       "      <th>Target-1</th>\n",
       "      <th>Target</th>\n",
       "    </tr>\n",
       "  </thead>\n",
       "  <tbody>\n",
       "    <tr>\n",
       "      <th>0</th>\n",
       "      <td>2021-11-27</td>\n",
       "      <td>86.190002</td>\n",
       "      <td>86.760002</td>\n",
       "      <td>89.779999</td>\n",
       "      <td>88.320000</td>\n",
       "    </tr>\n",
       "    <tr>\n",
       "      <th>1</th>\n",
       "      <td>2021-11-30</td>\n",
       "      <td>89.779999</td>\n",
       "      <td>88.320000</td>\n",
       "      <td>91.519997</td>\n",
       "      <td>88.879997</td>\n",
       "    </tr>\n",
       "    <tr>\n",
       "      <th>2</th>\n",
       "      <td>2021-12-01</td>\n",
       "      <td>88.320000</td>\n",
       "      <td>91.519997</td>\n",
       "      <td>88.879997</td>\n",
       "      <td>89.459999</td>\n",
       "    </tr>\n",
       "    <tr>\n",
       "      <th>3</th>\n",
       "      <td>2021-12-02</td>\n",
       "      <td>91.519997</td>\n",
       "      <td>88.879997</td>\n",
       "      <td>89.459999</td>\n",
       "      <td>90.180000</td>\n",
       "    </tr>\n",
       "    <tr>\n",
       "      <th>4</th>\n",
       "      <td>2021-12-03</td>\n",
       "      <td>88.879997</td>\n",
       "      <td>89.459999</td>\n",
       "      <td>90.180000</td>\n",
       "      <td>90.050003</td>\n",
       "    </tr>\n",
       "    <tr>\n",
       "      <th>...</th>\n",
       "      <td>...</td>\n",
       "      <td>...</td>\n",
       "      <td>...</td>\n",
       "      <td>...</td>\n",
       "      <td>...</td>\n",
       "    </tr>\n",
       "    <tr>\n",
       "      <th>438</th>\n",
       "      <td>2023-08-28</td>\n",
       "      <td>76.529999</td>\n",
       "      <td>75.529999</td>\n",
       "      <td>74.720001</td>\n",
       "      <td>76.010002</td>\n",
       "    </tr>\n",
       "    <tr>\n",
       "      <th>439</th>\n",
       "      <td>2023-08-29</td>\n",
       "      <td>75.529999</td>\n",
       "      <td>74.720001</td>\n",
       "      <td>76.010002</td>\n",
       "      <td>76.419998</td>\n",
       "    </tr>\n",
       "    <tr>\n",
       "      <th>440</th>\n",
       "      <td>2023-08-30</td>\n",
       "      <td>74.720001</td>\n",
       "      <td>76.010002</td>\n",
       "      <td>76.419998</td>\n",
       "      <td>76.430000</td>\n",
       "    </tr>\n",
       "    <tr>\n",
       "      <th>441</th>\n",
       "      <td>2023-08-31</td>\n",
       "      <td>76.010002</td>\n",
       "      <td>76.419998</td>\n",
       "      <td>76.430000</td>\n",
       "      <td>76.699997</td>\n",
       "    </tr>\n",
       "    <tr>\n",
       "      <th>442</th>\n",
       "      <td>2023-09-01</td>\n",
       "      <td>76.419998</td>\n",
       "      <td>76.430000</td>\n",
       "      <td>76.699997</td>\n",
       "      <td>77.599998</td>\n",
       "    </tr>\n",
       "  </tbody>\n",
       "</table>\n",
       "<p>443 rows × 5 columns</p>\n",
       "</div>"
      ],
      "text/plain": [
       "    Target Date   Target-3   Target-2   Target-1     Target\n",
       "0    2021-11-27  86.190002  86.760002  89.779999  88.320000\n",
       "1    2021-11-30  89.779999  88.320000  91.519997  88.879997\n",
       "2    2021-12-01  88.320000  91.519997  88.879997  89.459999\n",
       "3    2021-12-02  91.519997  88.879997  89.459999  90.180000\n",
       "4    2021-12-03  88.879997  89.459999  90.180000  90.050003\n",
       "..          ...        ...        ...        ...        ...\n",
       "438  2023-08-28  76.529999  75.529999  74.720001  76.010002\n",
       "439  2023-08-29  75.529999  74.720001  76.010002  76.419998\n",
       "440  2023-08-30  74.720001  76.010002  76.419998  76.430000\n",
       "441  2023-08-31  76.010002  76.419998  76.430000  76.699997\n",
       "442  2023-09-01  76.419998  76.430000  76.699997  77.599998\n",
       "\n",
       "[443 rows x 5 columns]"
      ]
     },
     "execution_count": 9,
     "metadata": {},
     "output_type": "execute_result"
    }
   ],
   "source": [
    "import numpy as np\n",
    "\n",
    "\n",
    "def df_to_windowed_df(dataframe, first_date_str, last_date_str, n=3):\n",
    "  first_date = str_to_datetime(first_date_str)\n",
    "  last_date = str_to_datetime(last_date_str)\n",
    "\n",
    "  target_date = first_date\n",
    "\n",
    "  dates = []\n",
    "  X, Y = [], []\n",
    "\n",
    "  last_time = False\n",
    "  while True:\n",
    "    df_subset = dataframe.loc[:target_date].tail(n+1)\n",
    "\n",
    "    if len(df_subset) != n+1:\n",
    "      print(f'Error: Window of size {n} is too large for date {target_date}')\n",
    "      return\n",
    "\n",
    "    values = df_subset['Close'].to_numpy()\n",
    "    x, y = values[:-1], values[-1]\n",
    "\n",
    "    dates.append(target_date)\n",
    "    X.append(x)\n",
    "    Y.append(y)\n",
    "\n",
    "    next_week = dataframe.loc[target_date:target_date +\n",
    "                              datetime.timedelta(days=7)]\n",
    "    next_datetime_str = str(next_week.head(2).tail(1).index.values[0])\n",
    "    next_date_str = next_datetime_str.split('T')[0]\n",
    "    year_month_day = next_date_str.split('-')\n",
    "    year, month, day = year_month_day\n",
    "    next_date = datetime.datetime(\n",
    "        day=int(day), month=int(month), year=int(year))\n",
    "\n",
    "    if last_time:\n",
    "      break\n",
    "\n",
    "    target_date = next_date\n",
    "\n",
    "    if target_date == last_date:\n",
    "      last_time = True\n",
    "\n",
    "  ret_df = pd.DataFrame({})\n",
    "  ret_df['Target Date'] = dates\n",
    "\n",
    "  X = np.array(X)\n",
    "  for i in range(0, n):\n",
    "    X[:, i]\n",
    "    ret_df[f'Target-{n-i}'] = X[:, i]\n",
    "\n",
    "  ret_df['Target'] = Y\n",
    "\n",
    "  return ret_df\n",
    "\n",
    "\n",
    "# Start day second time around: '2021-03-25'\n",
    "windowed_df = df_to_windowed_df(df,\n",
    "                                '2021-11-27',\n",
    "                                '2023-09-01',\n",
    "                                n=3)\n",
    "windowed_df\n"
   ]
  },
  {
   "cell_type": "code",
   "execution_count": 10,
   "metadata": {},
   "outputs": [
    {
     "data": {
      "text/plain": [
       "((443,), (443, 3, 1), (443,))"
      ]
     },
     "execution_count": 10,
     "metadata": {},
     "output_type": "execute_result"
    }
   ],
   "source": [
    "def windowed_df_to_date_X_y(windowed_dataframe):\n",
    "  df_as_np = windowed_dataframe.to_numpy()\n",
    "\n",
    "  dates = df_as_np[:, 0]\n",
    "\n",
    "  middle_matrix = df_as_np[:, 1:-1]\n",
    "  X = middle_matrix.reshape((len(dates), middle_matrix.shape[1], 1))\n",
    "\n",
    "  Y = df_as_np[:, -1]\n",
    "\n",
    "  return dates, X.astype(np.float32), Y.astype(np.float32)\n",
    "\n",
    "\n",
    "dates, X, y = windowed_df_to_date_X_y(windowed_df)\n",
    "\n",
    "dates.shape, X.shape, y.shape\n"
   ]
  },
  {
   "cell_type": "code",
   "execution_count": 11,
   "metadata": {},
   "outputs": [
    {
     "data": {
      "text/plain": [
       "<matplotlib.legend.Legend at 0x26e6da3df70>"
      ]
     },
     "execution_count": 11,
     "metadata": {},
     "output_type": "execute_result"
    },
    {
     "data": {
      "image/png": "[encoded data removed]",
      "text/plain": [
       "<Figure size 432x288 with 1 Axes>"
      ]
     },
     "metadata": {
      "needs_background": "light"
     },
     "output_type": "display_data"
    }
   ],
   "source": [
    "q_80 = int(len(dates) * .8)\n",
    "q_90 = int(len(dates) * .9)\n",
    "\n",
    "dates_train, X_train, y_train = dates[:q_80], X[:q_80], y[:q_80]\n",
    "\n",
    "dates_val, X_val, y_val = dates[q_80:q_90], X[q_80:q_90], y[q_80:q_90]\n",
    "dates_test, X_test, y_test = dates[q_90:], X[q_90:], y[q_90:]\n",
    "\n",
    "plt.plot(dates_train, y_train)\n",
    "plt.plot(dates_val, y_val)\n",
    "plt.plot(dates_test, y_test)\n",
    "\n",
    "plt.legend(['Train', 'Validation', 'Test'])\n"
   ]
  },
  {
   "cell_type": "code",
   "execution_count": 12,
   "metadata": {},
   "outputs": [
    {
     "name": "stdout",
     "output_type": "stream",
     "text": [
      "Epoch 1/100\n",
      "12/12 [==============================] - 2s 42ms/step - loss: 5353.3794 - mean_absolute_error: 72.5053 - val_loss: 4617.7646 - val_mean_absolute_error: 67.8160\n",
      "Epoch 2/100\n",
      "12/12 [==============================] - 0s 6ms/step - loss: 5243.9980 - mean_absolute_error: 71.7454 - val_loss: 4492.6934 - val_mean_absolute_error: 66.8873\n",
      "Epoch 3/100\n",
      "12/12 [==============================] - 0s 6ms/step - loss: 5075.2305 - mean_absolute_error: 70.5606 - val_loss: 4276.7559 - val_mean_absolute_error: 65.2524\n",
      "Epoch 4/100\n",
      "12/12 [==============================] - 0s 6ms/step - loss: 4793.7212 - mean_absolute_error: 68.5340 - val_loss: 3925.0710 - val_mean_absolute_error: 62.4969\n",
      "Epoch 5/100\n",
      "12/12 [==============================] - 0s 5ms/step - loss: 4324.6460 - mean_absolute_error: 64.9833 - val_loss: 3301.9158 - val_mean_absolute_error: 57.2844\n",
      "Epoch 6/100\n",
      "12/12 [==============================] - 0s 5ms/step - loss: 3497.9270 - mean_absolute_error: 58.1827 - val_loss: 2308.7041 - val_mean_absolute_error: 47.8369\n",
      "Epoch 7/100\n",
      "12/12 [==============================] - 0s 5ms/step - loss: 2367.9714 - mean_absolute_error: 47.4620 - val_loss: 1311.4657 - val_mean_absolute_error: 35.9367\n",
      "Epoch 8/100\n",
      "12/12 [==============================] - 0s 5ms/step - loss: 1304.6907 - mean_absolute_error: 34.3647 - val_loss: 470.0652 - val_mean_absolute_error: 21.2250\n",
      "Epoch 9/100\n",
      "12/12 [==============================] - 0s 5ms/step - loss: 484.5521 - mean_absolute_error: 19.2778 - val_loss: 58.2572 - val_mean_absolute_error: 6.2117\n",
      "Epoch 10/100\n",
      "12/12 [==============================] - 0s 5ms/step - loss: 140.6998 - mean_absolute_error: 8.7782 - val_loss: 49.8111 - val_mean_absolute_error: 5.7547\n",
      "Epoch 11/100\n",
      "12/12 [==============================] - 0s 5ms/step - loss: 107.1431 - mean_absolute_error: 9.1673 - val_loss: 73.9953 - val_mean_absolute_error: 7.4407\n",
      "Epoch 12/100\n",
      "12/12 [==============================] - 0s 4ms/step - loss: 100.8163 - mean_absolute_error: 8.8213 - val_loss: 44.5665 - val_mean_absolute_error: 5.4142\n",
      "Epoch 13/100\n",
      "12/12 [==============================] - 0s 5ms/step - loss: 95.8775 - mean_absolute_error: 8.1474 - val_loss: 33.1050 - val_mean_absolute_error: 4.7083\n",
      "Epoch 14/100\n",
      "12/12 [==============================] - 0s 5ms/step - loss: 95.9749 - mean_absolute_error: 7.9762 - val_loss: 32.9692 - val_mean_absolute_error: 4.6996\n",
      "Epoch 15/100\n",
      "12/12 [==============================] - 0s 6ms/step - loss: 95.2933 - mean_absolute_error: 8.0616 - val_loss: 38.4411 - val_mean_absolute_error: 5.0158\n",
      "Epoch 16/100\n",
      "12/12 [==============================] - 0s 5ms/step - loss: 88.4002 - mean_absolute_error: 7.6809 - val_loss: 17.0206 - val_mean_absolute_error: 3.6093\n",
      "Epoch 17/100\n",
      "12/12 [==============================] - 0s 5ms/step - loss: 78.8785 - mean_absolute_error: 7.0385 - val_loss: 17.0175 - val_mean_absolute_error: 3.4166\n",
      "Epoch 18/100\n",
      "12/12 [==============================] - 0s 15ms/step - loss: 60.2620 - mean_absolute_error: 6.0255 - val_loss: 18.2457 - val_mean_absolute_error: 3.4800\n",
      "Epoch 19/100\n",
      "12/12 [==============================] - 0s 6ms/step - loss: 52.2140 - mean_absolute_error: 5.8462 - val_loss: 16.6956 - val_mean_absolute_error: 3.3335\n",
      "Epoch 20/100\n",
      "12/12 [==============================] - 0s 5ms/step - loss: 46.9896 - mean_absolute_error: 5.6720 - val_loss: 12.5052 - val_mean_absolute_error: 3.0042\n",
      "Epoch 21/100\n",
      "12/12 [==============================] - 0s 5ms/step - loss: 42.3484 - mean_absolute_error: 5.3491 - val_loss: 12.1672 - val_mean_absolute_error: 2.9012\n",
      "Epoch 22/100\n",
      "12/12 [==============================] - 0s 5ms/step - loss: 37.1127 - mean_absolute_error: 4.9843 - val_loss: 10.6015 - val_mean_absolute_error: 2.7290\n",
      "Epoch 23/100\n",
      "12/12 [==============================] - 0s 5ms/step - loss: 31.4556 - mean_absolute_error: 4.4495 - val_loss: 6.5636 - val_mean_absolute_error: 2.1687\n",
      "Epoch 24/100\n",
      "12/12 [==============================] - 0s 5ms/step - loss: 24.4390 - mean_absolute_error: 3.8351 - val_loss: 6.1254 - val_mean_absolute_error: 2.0564\n",
      "Epoch 25/100\n",
      "12/12 [==============================] - 0s 5ms/step - loss: 18.9209 - mean_absolute_error: 3.3871 - val_loss: 3.3016 - val_mean_absolute_error: 1.5665\n",
      "Epoch 26/100\n",
      "12/12 [==============================] - 0s 5ms/step - loss: 12.2812 - mean_absolute_error: 2.5590 - val_loss: 2.1274 - val_mean_absolute_error: 1.1493\n",
      "Epoch 27/100\n",
      "12/12 [==============================] - 0s 5ms/step - loss: 7.5193 - mean_absolute_error: 2.0564 - val_loss: 1.6684 - val_mean_absolute_error: 0.9872\n",
      "Epoch 28/100\n",
      "12/12 [==============================] - 0s 5ms/step - loss: 5.0798 - mean_absolute_error: 1.6773 - val_loss: 2.0062 - val_mean_absolute_error: 1.0253\n",
      "Epoch 29/100\n",
      "12/12 [==============================] - 0s 5ms/step - loss: 4.1870 - mean_absolute_error: 1.5598 - val_loss: 1.9647 - val_mean_absolute_error: 1.1193\n",
      "Epoch 30/100\n",
      "12/12 [==============================] - 0s 5ms/step - loss: 3.8367 - mean_absolute_error: 1.5291 - val_loss: 1.7096 - val_mean_absolute_error: 0.9618\n",
      "Epoch 31/100\n",
      "12/12 [==============================] - 0s 6ms/step - loss: 3.2844 - mean_absolute_error: 1.3936 - val_loss: 1.6630 - val_mean_absolute_error: 0.9715\n",
      "Epoch 32/100\n",
      "12/12 [==============================] - 0s 5ms/step - loss: 3.3761 - mean_absolute_error: 1.4284 - val_loss: 2.0651 - val_mean_absolute_error: 1.1305\n",
      "Epoch 33/100\n",
      "12/12 [==============================] - 0s 5ms/step - loss: 3.5851 - mean_absolute_error: 1.4868 - val_loss: 1.8455 - val_mean_absolute_error: 0.9630\n",
      "Epoch 34/100\n",
      "12/12 [==============================] - 0s 5ms/step - loss: 2.8524 - mean_absolute_error: 1.3221 - val_loss: 1.6069 - val_mean_absolute_error: 0.9458\n",
      "Epoch 35/100\n",
      "12/12 [==============================] - 0s 7ms/step - loss: 2.7651 - mean_absolute_error: 1.2911 - val_loss: 1.6201 - val_mean_absolute_error: 0.9721\n",
      "Epoch 36/100\n",
      "12/12 [==============================] - 0s 6ms/step - loss: 2.7659 - mean_absolute_error: 1.2965 - val_loss: 1.6738 - val_mean_absolute_error: 0.9814\n",
      "Epoch 37/100\n",
      "12/12 [==============================] - 0s 6ms/step - loss: 2.8483 - mean_absolute_error: 1.3196 - val_loss: 1.6095 - val_mean_absolute_error: 0.9371\n",
      "Epoch 38/100\n",
      "12/12 [==============================] - 0s 8ms/step - loss: 2.7495 - mean_absolute_error: 1.3149 - val_loss: 1.9436 - val_mean_absolute_error: 1.0205\n",
      "Epoch 39/100\n",
      "12/12 [==============================] - 0s 6ms/step - loss: 2.9243 - mean_absolute_error: 1.3486 - val_loss: 1.6005 - val_mean_absolute_error: 0.9537\n",
      "Epoch 40/100\n",
      "12/12 [==============================] - 0s 8ms/step - loss: 2.7056 - mean_absolute_error: 1.2945 - val_loss: 1.6210 - val_mean_absolute_error: 0.9526\n",
      "Epoch 41/100\n",
      "12/12 [==============================] - 0s 10ms/step - loss: 2.5940 - mean_absolute_error: 1.2546 - val_loss: 1.7202 - val_mean_absolute_error: 0.9828\n",
      "Epoch 42/100\n",
      "12/12 [==============================] - 0s 7ms/step - loss: 2.5464 - mean_absolute_error: 1.2518 - val_loss: 1.6095 - val_mean_absolute_error: 0.9566\n",
      "Epoch 43/100\n",
      "12/12 [==============================] - 0s 7ms/step - loss: 2.5615 - mean_absolute_error: 1.2624 - val_loss: 3.6457 - val_mean_absolute_error: 1.5298\n",
      "Epoch 44/100\n",
      "12/12 [==============================] - 0s 6ms/step - loss: 3.2070 - mean_absolute_error: 1.4193 - val_loss: 4.4167 - val_mean_absolute_error: 1.7054\n",
      "Epoch 45/100\n",
      "12/12 [==============================] - 0s 6ms/step - loss: 3.3417 - mean_absolute_error: 1.4284 - val_loss: 3.7172 - val_mean_absolute_error: 1.4903\n",
      "Epoch 46/100\n",
      "12/12 [==============================] - 0s 7ms/step - loss: 2.8917 - mean_absolute_error: 1.3175 - val_loss: 2.1240 - val_mean_absolute_error: 1.0451\n",
      "Epoch 47/100\n",
      "12/12 [==============================] - 0s 6ms/step - loss: 2.8414 - mean_absolute_error: 1.3215 - val_loss: 1.7606 - val_mean_absolute_error: 1.0077\n",
      "Epoch 48/100\n",
      "12/12 [==============================] - 0s 7ms/step - loss: 2.6677 - mean_absolute_error: 1.2829 - val_loss: 1.6495 - val_mean_absolute_error: 0.9725\n",
      "Epoch 49/100\n",
      "12/12 [==============================] - 0s 7ms/step - loss: 2.5047 - mean_absolute_error: 1.2564 - val_loss: 1.6029 - val_mean_absolute_error: 0.9423\n",
      "Epoch 50/100\n",
      "12/12 [==============================] - 0s 6ms/step - loss: 2.7623 - mean_absolute_error: 1.3134 - val_loss: 1.7669 - val_mean_absolute_error: 1.0265\n",
      "Epoch 51/100\n",
      "12/12 [==============================] - 0s 6ms/step - loss: 3.1425 - mean_absolute_error: 1.3926 - val_loss: 1.9589 - val_mean_absolute_error: 1.0749\n",
      "Epoch 52/100\n",
      "12/12 [==============================] - 0s 6ms/step - loss: 2.7090 - mean_absolute_error: 1.3077 - val_loss: 2.2737 - val_mean_absolute_error: 1.0701\n",
      "Epoch 53/100\n",
      "12/12 [==============================] - 0s 6ms/step - loss: 2.6575 - mean_absolute_error: 1.2756 - val_loss: 2.6049 - val_mean_absolute_error: 1.1767\n",
      "Epoch 54/100\n",
      "12/12 [==============================] - 0s 6ms/step - loss: 2.5072 - mean_absolute_error: 1.2449 - val_loss: 2.0019 - val_mean_absolute_error: 1.0350\n",
      "Epoch 55/100\n",
      "12/12 [==============================] - 0s 6ms/step - loss: 2.4663 - mean_absolute_error: 1.2439 - val_loss: 1.7201 - val_mean_absolute_error: 0.9951\n",
      "Epoch 56/100\n",
      "12/12 [==============================] - 0s 5ms/step - loss: 2.9293 - mean_absolute_error: 1.3601 - val_loss: 2.0308 - val_mean_absolute_error: 1.1260\n",
      "Epoch 57/100\n",
      "12/12 [==============================] - 0s 6ms/step - loss: 3.3023 - mean_absolute_error: 1.4165 - val_loss: 1.6307 - val_mean_absolute_error: 0.9600\n",
      "Epoch 58/100\n",
      "12/12 [==============================] - 0s 6ms/step - loss: 2.7368 - mean_absolute_error: 1.2891 - val_loss: 2.5427 - val_mean_absolute_error: 1.1568\n",
      "Epoch 59/100\n",
      "12/12 [==============================] - 0s 6ms/step - loss: 2.5148 - mean_absolute_error: 1.2524 - val_loss: 1.8162 - val_mean_absolute_error: 0.9755\n",
      "Epoch 60/100\n",
      "12/12 [==============================] - 0s 7ms/step - loss: 2.3423 - mean_absolute_error: 1.2061 - val_loss: 2.3452 - val_mean_absolute_error: 1.0883\n",
      "Epoch 61/100\n",
      "12/12 [==============================] - 0s 6ms/step - loss: 2.7080 - mean_absolute_error: 1.2878 - val_loss: 1.7855 - val_mean_absolute_error: 1.0231\n",
      "Epoch 62/100\n",
      "12/12 [==============================] - 0s 6ms/step - loss: 3.6549 - mean_absolute_error: 1.5616 - val_loss: 1.6784 - val_mean_absolute_error: 0.9727\n",
      "Epoch 63/100\n",
      "12/12 [==============================] - 0s 6ms/step - loss: 2.5221 - mean_absolute_error: 1.2484 - val_loss: 1.8595 - val_mean_absolute_error: 1.0082\n",
      "Epoch 64/100\n",
      "12/12 [==============================] - 0s 6ms/step - loss: 2.3663 - mean_absolute_error: 1.1955 - val_loss: 2.3846 - val_mean_absolute_error: 1.0965\n",
      "Epoch 65/100\n",
      "12/12 [==============================] - 0s 6ms/step - loss: 2.3865 - mean_absolute_error: 1.2066 - val_loss: 2.1601 - val_mean_absolute_error: 1.0514\n",
      "Epoch 66/100\n",
      "12/12 [==============================] - 0s 5ms/step - loss: 2.3368 - mean_absolute_error: 1.2129 - val_loss: 1.9706 - val_mean_absolute_error: 0.9930\n",
      "Epoch 67/100\n",
      "12/12 [==============================] - 0s 6ms/step - loss: 2.3755 - mean_absolute_error: 1.2076 - val_loss: 1.7417 - val_mean_absolute_error: 0.9655\n",
      "Epoch 68/100\n",
      "12/12 [==============================] - 0s 6ms/step - loss: 2.3399 - mean_absolute_error: 1.1995 - val_loss: 2.3425 - val_mean_absolute_error: 1.0802\n",
      "Epoch 69/100\n",
      "12/12 [==============================] - 0s 6ms/step - loss: 2.3086 - mean_absolute_error: 1.1874 - val_loss: 2.5116 - val_mean_absolute_error: 1.1389\n",
      "Epoch 70/100\n",
      "12/12 [==============================] - 0s 6ms/step - loss: 2.4246 - mean_absolute_error: 1.2139 - val_loss: 1.6479 - val_mean_absolute_error: 0.9626\n",
      "Epoch 71/100\n",
      "12/12 [==============================] - 0s 6ms/step - loss: 2.7389 - mean_absolute_error: 1.2974 - val_loss: 1.6147 - val_mean_absolute_error: 0.9457\n",
      "Epoch 72/100\n",
      "12/12 [==============================] - 0s 6ms/step - loss: 2.5622 - mean_absolute_error: 1.2535 - val_loss: 1.6488 - val_mean_absolute_error: 0.9613\n",
      "Epoch 73/100\n",
      "12/12 [==============================] - 0s 6ms/step - loss: 2.3475 - mean_absolute_error: 1.1848 - val_loss: 1.6733 - val_mean_absolute_error: 0.9519\n",
      "Epoch 74/100\n",
      "12/12 [==============================] - 0s 6ms/step - loss: 2.2352 - mean_absolute_error: 1.1593 - val_loss: 2.1215 - val_mean_absolute_error: 1.0158\n",
      "Epoch 75/100\n",
      "12/12 [==============================] - 0s 6ms/step - loss: 2.2772 - mean_absolute_error: 1.1637 - val_loss: 1.7484 - val_mean_absolute_error: 0.9500\n",
      "Epoch 76/100\n",
      "12/12 [==============================] - 0s 6ms/step - loss: 2.4019 - mean_absolute_error: 1.2048 - val_loss: 1.6512 - val_mean_absolute_error: 0.9567\n",
      "Epoch 77/100\n",
      "12/12 [==============================] - 0s 6ms/step - loss: 2.1992 - mean_absolute_error: 1.1579 - val_loss: 2.0294 - val_mean_absolute_error: 0.9902\n",
      "Epoch 78/100\n",
      "12/12 [==============================] - 0s 6ms/step - loss: 2.3130 - mean_absolute_error: 1.1787 - val_loss: 3.0980 - val_mean_absolute_error: 1.3293\n",
      "Epoch 79/100\n",
      "12/12 [==============================] - 0s 6ms/step - loss: 2.4246 - mean_absolute_error: 1.2235 - val_loss: 1.9916 - val_mean_absolute_error: 0.9969\n",
      "Epoch 80/100\n",
      "12/12 [==============================] - 0s 6ms/step - loss: 2.4436 - mean_absolute_error: 1.2320 - val_loss: 1.6576 - val_mean_absolute_error: 0.9403\n",
      "Epoch 81/100\n",
      "12/12 [==============================] - 0s 5ms/step - loss: 2.4354 - mean_absolute_error: 1.2112 - val_loss: 1.8893 - val_mean_absolute_error: 0.9706\n",
      "Epoch 82/100\n",
      "12/12 [==============================] - 0s 6ms/step - loss: 2.3459 - mean_absolute_error: 1.1974 - val_loss: 1.8415 - val_mean_absolute_error: 0.9581\n",
      "Epoch 83/100\n",
      "12/12 [==============================] - 0s 6ms/step - loss: 2.2918 - mean_absolute_error: 1.1714 - val_loss: 1.8177 - val_mean_absolute_error: 0.9637\n",
      "Epoch 84/100\n",
      "12/12 [==============================] - 0s 6ms/step - loss: 2.2251 - mean_absolute_error: 1.1563 - val_loss: 2.1484 - val_mean_absolute_error: 1.0144\n",
      "Epoch 85/100\n",
      "12/12 [==============================] - 0s 6ms/step - loss: 2.4217 - mean_absolute_error: 1.2141 - val_loss: 2.4121 - val_mean_absolute_error: 1.0990\n",
      "Epoch 86/100\n",
      "12/12 [==============================] - 0s 6ms/step - loss: 2.7406 - mean_absolute_error: 1.2998 - val_loss: 1.6762 - val_mean_absolute_error: 0.9810\n",
      "Epoch 87/100\n",
      "12/12 [==============================] - 0s 6ms/step - loss: 3.1507 - mean_absolute_error: 1.3815 - val_loss: 1.6796 - val_mean_absolute_error: 0.9614\n",
      "Epoch 88/100\n",
      "12/12 [==============================] - 0s 5ms/step - loss: 2.3165 - mean_absolute_error: 1.1936 - val_loss: 1.6777 - val_mean_absolute_error: 0.9688\n",
      "Epoch 89/100\n",
      "12/12 [==============================] - 0s 6ms/step - loss: 2.4965 - mean_absolute_error: 1.2429 - val_loss: 1.7614 - val_mean_absolute_error: 0.9727\n",
      "Epoch 90/100\n",
      "12/12 [==============================] - 0s 6ms/step - loss: 2.3791 - mean_absolute_error: 1.2090 - val_loss: 1.6746 - val_mean_absolute_error: 0.9702\n",
      "Epoch 91/100\n",
      "12/12 [==============================] - 0s 5ms/step - loss: 2.3884 - mean_absolute_error: 1.2268 - val_loss: 1.7311 - val_mean_absolute_error: 0.9268\n",
      "Epoch 92/100\n",
      "12/12 [==============================] - 0s 5ms/step - loss: 2.3704 - mean_absolute_error: 1.2041 - val_loss: 1.6969 - val_mean_absolute_error: 0.9777\n",
      "Epoch 93/100\n",
      "12/12 [==============================] - 0s 6ms/step - loss: 2.6396 - mean_absolute_error: 1.2733 - val_loss: 1.6634 - val_mean_absolute_error: 0.9614\n",
      "Epoch 94/100\n",
      "12/12 [==============================] - 0s 6ms/step - loss: 2.3248 - mean_absolute_error: 1.1891 - val_loss: 1.6543 - val_mean_absolute_error: 0.9546\n",
      "Epoch 95/100\n",
      "12/12 [==============================] - 0s 8ms/step - loss: 2.2486 - mean_absolute_error: 1.1672 - val_loss: 1.6747 - val_mean_absolute_error: 0.9450\n",
      "Epoch 96/100\n",
      "12/12 [==============================] - 0s 5ms/step - loss: 2.2129 - mean_absolute_error: 1.1519 - val_loss: 1.6519 - val_mean_absolute_error: 0.9537\n",
      "Epoch 97/100\n",
      "12/12 [==============================] - 0s 5ms/step - loss: 2.3015 - mean_absolute_error: 1.1724 - val_loss: 1.6633 - val_mean_absolute_error: 0.9611\n",
      "Epoch 98/100\n",
      "12/12 [==============================] - 0s 5ms/step - loss: 2.5073 - mean_absolute_error: 1.2268 - val_loss: 1.8166 - val_mean_absolute_error: 0.9518\n",
      "Epoch 99/100\n",
      "12/12 [==============================] - 0s 5ms/step - loss: 2.2276 - mean_absolute_error: 1.1635 - val_loss: 1.7622 - val_mean_absolute_error: 1.0051\n",
      "Epoch 100/100\n",
      "12/12 [==============================] - 0s 5ms/step - loss: 2.8435 - mean_absolute_error: 1.3581 - val_loss: 1.6539 - val_mean_absolute_error: 0.9642\n"
     ]
    },
    {
     "data": {
      "text/plain": [
       "<keras.src.callbacks.History at 0x26e06029ac0>"
      ]
     },
     "execution_count": 12,
     "metadata": {},
     "output_type": "execute_result"
    }
   ],
   "source": [
    "from tensorflow.keras.models import Sequential\n",
    "from tensorflow.keras.optimizers import Adam\n",
    "from tensorflow.keras import layers\n",
    "\n",
    "model = Sequential([layers.Input((3, 1)),\n",
    "                    layers.LSTM(64),\n",
    "                    layers.Dense(32, activation='relu'),\n",
    "                    layers.Dense(32, activation='relu'),\n",
    "                    layers.Dense(1)])\n",
    "\n",
    "model.compile(loss='mse',\n",
    "              optimizer=Adam(learning_rate=0.001),\n",
    "              metrics=['mean_absolute_error'])\n",
    "\n",
    "model.fit(X_train, y_train, validation_data=(X_val, y_val), epochs=100)\n"
   ]
  },
  {
   "cell_type": "code",
   "execution_count": 13,
   "metadata": {},
   "outputs": [
    {
     "name": "stdout",
     "output_type": "stream",
     "text": [
      "12/12 [==============================] - 0s 2ms/step\n"
     ]
    },
    {
     "data": {
      "text/plain": [
       "<matplotlib.legend.Legend at 0x26e096f8190>"
      ]
     },
     "execution_count": 13,
     "metadata": {},
     "output_type": "execute_result"
    },
    {
     "data": {
      "image/png": "[encoded data removed]",
      "text/plain": [
       "<Figure size 432x288 with 1 Axes>"
      ]
     },
     "metadata": {
      "needs_background": "light"
     },
     "output_type": "display_data"
    }
   ],
   "source": [
    "train_predictions = model.predict(X_train).flatten()\n",
    "\n",
    "plt.plot(dates_train, train_predictions)\n",
    "plt.plot(dates_train, y_train)\n",
    "plt.legend(['Training Predictions', 'Training Observations'])\n"
   ]
  },
  {
   "cell_type": "code",
   "execution_count": 14,
   "metadata": {},
   "outputs": [
    {
     "name": "stdout",
     "output_type": "stream",
     "text": [
      "2/2 [==============================] - 0s 4ms/step\n"
     ]
    },
    {
     "data": {
      "text/plain": [
       "<matplotlib.legend.Legend at 0x26e0a785220>"
      ]
     },
     "execution_count": 14,
     "metadata": {},
     "output_type": "execute_result"
    },
    {
     "data": {
      "image/png": "[encoded data removed]",
      "text/plain": [
       "<Figure size 432x288 with 1 Axes>"
      ]
     },
     "metadata": {
      "needs_background": "light"
     },
     "output_type": "display_data"
    }
   ],
   "source": [
    "val_predictions = model.predict(X_val).flatten()\n",
    "\n",
    "plt.plot(dates_val, val_predictions)\n",
    "plt.plot(dates_val, y_val)\n",
    "plt.legend(['Validation Predictions', 'Validation Observations'])\n"
   ]
  },
  {
   "cell_type": "code",
   "execution_count": 15,
   "metadata": {},
   "outputs": [
    {
     "name": "stdout",
     "output_type": "stream",
     "text": [
      "2/2 [==============================] - 0s 3ms/step\n"
     ]
    },
    {
     "data": {
      "text/plain": [
       "<matplotlib.legend.Legend at 0x26e0a831d30>"
      ]
     },
     "execution_count": 15,
     "metadata": {},
     "output_type": "execute_result"
    },
    {
     "data": {
      "image/png": "[encoded data removed]",
      "text/plain": [
       "<Figure size 432x288 with 1 Axes>"
      ]
     },
     "metadata": {
      "needs_background": "light"
     },
     "output_type": "display_data"
    }
   ],
   "source": [
    "test_predictions = model.predict(X_test).flatten()\n",
    "\n",
    "plt.plot(dates_test, test_predictions)\n",
    "plt.plot(dates_test, y_test)\n",
    "plt.legend(['Testing Predictions', 'Testing Observations'])\n"
   ]
  },
  {
   "cell_type": "code",
   "execution_count": 16,
   "metadata": {},
   "outputs": [
    {
     "data": {
      "text/plain": [
       "<matplotlib.legend.Legend at 0x26e0a8a5a00>"
      ]
     },
     "execution_count": 16,
     "metadata": {},
     "output_type": "execute_result"
    },
    {
     "data": {
      "image/png": "[encoded data removed]",
      "text/plain": [
       "<Figure size 432x288 with 1 Axes>"
      ]
     },
     "metadata": {
      "needs_background": "light"
     },
     "output_type": "display_data"
    }
   ],
   "source": [
    "plt.plot(dates_train, train_predictions)\n",
    "plt.plot(dates_train, y_train)\n",
    "plt.plot(dates_val, val_predictions)\n",
    "plt.plot(dates_val, y_val)\n",
    "plt.plot(dates_test, test_predictions)\n",
    "plt.plot(dates_test, y_test)\n",
    "plt.legend(['Training Predictions',\n",
    "            'Training Observations',\n",
    "            'Validation Predictions',\n",
    "            'Validation Observations',\n",
    "            'Testing Predictions',\n",
    "            'Testing Observations'])\n"
   ]
  },
  {
   "cell_type": "code",
   "execution_count": 17,
   "metadata": {},
   "outputs": [
    {
     "name": "stdout",
     "output_type": "stream",
     "text": [
      "1/1 [==============================] - 0s 19ms/step\n",
      "1/1 [==============================] - 0s 18ms/step\n",
      "1/1 [==============================] - 0s 20ms/step\n",
      "1/1 [==============================] - 0s 17ms/step\n",
      "1/1 [==============================] - 0s 21ms/step\n",
      "1/1 [==============================] - 0s 18ms/step\n",
      "1/1 [==============================] - 0s 16ms/step\n",
      "1/1 [==============================] - 0s 16ms/step\n",
      "1/1 [==============================] - 0s 16ms/step\n",
      "1/1 [==============================] - 0s 19ms/step\n",
      "1/1 [==============================] - 0s 22ms/step\n",
      "1/1 [==============================] - 0s 21ms/step\n",
      "1/1 [==============================] - 0s 19ms/step\n",
      "1/1 [==============================] - 0s 23ms/step\n",
      "1/1 [==============================] - 0s 22ms/step\n",
      "1/1 [==============================] - 0s 24ms/step\n",
      "1/1 [==============================] - 0s 18ms/step\n",
      "1/1 [==============================] - 0s 16ms/step\n",
      "1/1 [==============================] - 0s 16ms/step\n",
      "1/1 [==============================] - 0s 16ms/step\n",
      "1/1 [==============================] - 0s 18ms/step\n",
      "1/1 [==============================] - 0s 15ms/step\n",
      "1/1 [==============================] - 0s 17ms/step\n",
      "1/1 [==============================] - 0s 23ms/step\n",
      "1/1 [==============================] - 0s 21ms/step\n",
      "1/1 [==============================] - 0s 22ms/step\n",
      "1/1 [==============================] - 0s 20ms/step\n",
      "1/1 [==============================] - 0s 24ms/step\n",
      "1/1 [==============================] - 0s 21ms/step\n",
      "1/1 [==============================] - 0s 20ms/step\n",
      "1/1 [==============================] - 0s 19ms/step\n",
      "1/1 [==============================] - 0s 17ms/step\n",
      "1/1 [==============================] - 0s 18ms/step\n",
      "1/1 [==============================] - 0s 24ms/step\n",
      "1/1 [==============================] - 0s 18ms/step\n",
      "1/1 [==============================] - 0s 22ms/step\n",
      "1/1 [==============================] - 0s 19ms/step\n",
      "1/1 [==============================] - 0s 21ms/step\n",
      "1/1 [==============================] - 0s 21ms/step\n",
      "1/1 [==============================] - 0s 21ms/step\n",
      "1/1 [==============================] - 0s 20ms/step\n",
      "1/1 [==============================] - 0s 19ms/step\n",
      "1/1 [==============================] - 0s 19ms/step\n",
      "1/1 [==============================] - 0s 18ms/step\n",
      "1/1 [==============================] - 0s 17ms/step\n",
      "1/1 [==============================] - 0s 18ms/step\n",
      "1/1 [==============================] - 0s 21ms/step\n",
      "1/1 [==============================] - 0s 21ms/step\n",
      "1/1 [==============================] - 0s 16ms/step\n",
      "1/1 [==============================] - 0s 18ms/step\n",
      "1/1 [==============================] - 0s 17ms/step\n",
      "1/1 [==============================] - 0s 17ms/step\n",
      "1/1 [==============================] - 0s 16ms/step\n",
      "1/1 [==============================] - 0s 17ms/step\n",
      "1/1 [==============================] - 0s 17ms/step\n",
      "1/1 [==============================] - 0s 20ms/step\n",
      "1/1 [==============================] - 0s 26ms/step\n",
      "1/1 [==============================] - 0s 23ms/step\n",
      "1/1 [==============================] - 0s 17ms/step\n",
      "1/1 [==============================] - 0s 17ms/step\n",
      "1/1 [==============================] - 0s 16ms/step\n",
      "1/1 [==============================] - 0s 18ms/step\n",
      "1/1 [==============================] - 0s 21ms/step\n",
      "1/1 [==============================] - 0s 22ms/step\n",
      "1/1 [==============================] - 0s 19ms/step\n",
      "1/1 [==============================] - 0s 17ms/step\n",
      "1/1 [==============================] - 0s 19ms/step\n",
      "1/1 [==============================] - 0s 18ms/step\n",
      "1/1 [==============================] - 0s 17ms/step\n",
      "1/1 [==============================] - 0s 21ms/step\n",
      "1/1 [==============================] - 0s 23ms/step\n",
      "1/1 [==============================] - 0s 22ms/step\n",
      "1/1 [==============================] - 0s 17ms/step\n",
      "1/1 [==============================] - 0s 21ms/step\n",
      "1/1 [==============================] - 0s 22ms/step\n",
      "1/1 [==============================] - 0s 18ms/step\n",
      "1/1 [==============================] - 0s 22ms/step\n",
      "1/1 [==============================] - 0s 19ms/step\n",
      "1/1 [==============================] - 0s 21ms/step\n",
      "1/1 [==============================] - 0s 22ms/step\n",
      "1/1 [==============================] - 0s 21ms/step\n",
      "1/1 [==============================] - 0s 19ms/step\n",
      "1/1 [==============================] - 0s 21ms/step\n",
      "1/1 [==============================] - 0s 20ms/step\n",
      "1/1 [==============================] - 0s 22ms/step\n",
      "1/1 [==============================] - 0s 19ms/step\n",
      "1/1 [==============================] - 0s 17ms/step\n",
      "1/1 [==============================] - 0s 17ms/step\n",
      "1/1 [==============================] - 0s 22ms/step\n"
     ]
    }
   ],
   "source": [
    "from copy import deepcopy\n",
    "\n",
    "recursive_predictions = []\n",
    "recursive_dates = np.concatenate([dates_val, dates_test])\n",
    "\n",
    "for target_date in recursive_dates:\n",
    "  last_window = deepcopy(X_train[-1])\n",
    "  next_prediction = model.predict(np.array([last_window])).flatten()\n",
    "  recursive_predictions.append(next_prediction)\n",
    "  last_window[-1] = next_prediction\n"
   ]
  },
  {
   "cell_type": "code",
   "execution_count": 18,
   "metadata": {},
   "outputs": [
    {
     "data": {
      "text/plain": [
       "<matplotlib.legend.Legend at 0x26e0a951580>"
      ]
     },
     "execution_count": 18,
     "metadata": {},
     "output_type": "execute_result"
    },
    {
     "data": {
      "image/png": "[encoded data removed]",
      "text/plain": [
       "<Figure size 432x288 with 1 Axes>"
      ]
     },
     "metadata": {
      "needs_background": "light"
     },
     "output_type": "display_data"
    }
   ],
   "source": [
    "plt.plot(dates_train, train_predictions)\n",
    "plt.plot(dates_train, y_train)\n",
    "plt.plot(dates_val, val_predictions)\n",
    "plt.plot(dates_val, y_val)\n",
    "plt.plot(dates_test, test_predictions)\n",
    "plt.plot(dates_test, y_test)\n",
    "plt.plot(recursive_dates, recursive_predictions)\n",
    "plt.legend(['Training Predictions',\n",
    "            'Training Observations',\n",
    "            'Validation Predictions',\n",
    "            'Validation Observations',\n",
    "            'Testing Predictions',\n",
    "            'Testing Observations',\n",
    "            'Recursive Predictions'])\n"
   ]
  },
  {
   "cell_type": "code",
   "execution_count": null,
   "metadata": {},
   "outputs": [],
   "source": []
  }
 ],
 "metadata": {
  "kernelspec": {
   "display_name": "Python 3",
   "language": "python",
   "name": "python3"
  },
  "language_info": {
   "codemirror_mode": {
    "name": "ipython",
    "version": 3
   },
   "file_extension": ".py",
   "mimetype": "text/x-python",
   "name": "python",
   "nbconvert_exporter": "python",
   "pygments_lexer": "ipython3",
   "version": "3.9.0"
  },
  "orig_nbformat": 4
 },
 "nbformat": 4,
 "nbformat_minor": 2
}
