{
 "cells": [
  {
   "cell_type": "markdown",
   "metadata": {},
   "source": [
    "# dataset @ https://finance.yahoo.com/quote/NTAP/history/"
   ]
  },
  {
   "cell_type": "code",
   "execution_count": 1,
   "metadata": {},
   "outputs": [
    {
     "data": {
      "text/html": [
       "<div>\n",
       "<style scoped>\n",
       "    .dataframe tbody tr th:only-of-type {\n",
       "        vertical-align: middle;\n",
       "    }\n",
       "\n",
       "    .dataframe tbody tr th {\n",
       "        vertical-align: top;\n",
       "    }\n",
       "\n",
       "    .dataframe thead th {\n",
       "        text-align: right;\n",
       "    }\n",
       "</style>\n",
       "<table border=\"1\" class=\"dataframe\">\n",
       "  <thead>\n",
       "    <tr style=\"text-align: right;\">\n",
       "      <th></th>\n",
       "      <th>Date</th>\n",
       "      <th>Open</th>\n",
       "      <th>High</th>\n",
       "      <th>Low</th>\n",
       "      <th>Close</th>\n",
       "      <th>Adj Close</th>\n",
       "      <th>Volume</th>\n",
       "    </tr>\n",
       "  </thead>\n",
       "  <tbody>\n",
       "    <tr>\n",
       "      <th>0</th>\n",
       "      <td>1995-11-21</td>\n",
       "      <td>1.078125</td>\n",
       "      <td>1.328125</td>\n",
       "      <td>1.078125</td>\n",
       "      <td>1.281250</td>\n",
       "      <td>0.994211</td>\n",
       "      <td>51412800</td>\n",
       "    </tr>\n",
       "    <tr>\n",
       "      <th>1</th>\n",
       "      <td>1995-11-22</td>\n",
       "      <td>1.281250</td>\n",
       "      <td>1.609375</td>\n",
       "      <td>1.265625</td>\n",
       "      <td>1.562500</td>\n",
       "      <td>1.212453</td>\n",
       "      <td>11921600</td>\n",
       "    </tr>\n",
       "    <tr>\n",
       "      <th>2</th>\n",
       "      <td>1995-11-24</td>\n",
       "      <td>1.562500</td>\n",
       "      <td>1.703125</td>\n",
       "      <td>1.562500</td>\n",
       "      <td>1.687500</td>\n",
       "      <td>1.309449</td>\n",
       "      <td>2419200</td>\n",
       "    </tr>\n",
       "    <tr>\n",
       "      <th>3</th>\n",
       "      <td>1995-11-27</td>\n",
       "      <td>1.781250</td>\n",
       "      <td>1.812500</td>\n",
       "      <td>1.531250</td>\n",
       "      <td>1.578125</td>\n",
       "      <td>1.224577</td>\n",
       "      <td>6720000</td>\n",
       "    </tr>\n",
       "    <tr>\n",
       "      <th>4</th>\n",
       "      <td>1995-11-28</td>\n",
       "      <td>1.578125</td>\n",
       "      <td>1.609375</td>\n",
       "      <td>1.562500</td>\n",
       "      <td>1.593750</td>\n",
       "      <td>1.236702</td>\n",
       "      <td>3451200</td>\n",
       "    </tr>\n",
       "    <tr>\n",
       "      <th>...</th>\n",
       "      <td>...</td>\n",
       "      <td>...</td>\n",
       "      <td>...</td>\n",
       "      <td>...</td>\n",
       "      <td>...</td>\n",
       "      <td>...</td>\n",
       "      <td>...</td>\n",
       "    </tr>\n",
       "    <tr>\n",
       "      <th>6988</th>\n",
       "      <td>2023-08-28</td>\n",
       "      <td>75.250000</td>\n",
       "      <td>76.139999</td>\n",
       "      <td>75.089996</td>\n",
       "      <td>76.010002</td>\n",
       "      <td>76.010002</td>\n",
       "      <td>1376500</td>\n",
       "    </tr>\n",
       "    <tr>\n",
       "      <th>6989</th>\n",
       "      <td>2023-08-29</td>\n",
       "      <td>75.900002</td>\n",
       "      <td>76.820000</td>\n",
       "      <td>75.669998</td>\n",
       "      <td>76.419998</td>\n",
       "      <td>76.419998</td>\n",
       "      <td>1354300</td>\n",
       "    </tr>\n",
       "    <tr>\n",
       "      <th>6990</th>\n",
       "      <td>2023-08-30</td>\n",
       "      <td>76.279999</td>\n",
       "      <td>76.550003</td>\n",
       "      <td>75.510002</td>\n",
       "      <td>76.430000</td>\n",
       "      <td>76.430000</td>\n",
       "      <td>1784500</td>\n",
       "    </tr>\n",
       "    <tr>\n",
       "      <th>6991</th>\n",
       "      <td>2023-08-31</td>\n",
       "      <td>76.809998</td>\n",
       "      <td>76.900002</td>\n",
       "      <td>76.190002</td>\n",
       "      <td>76.699997</td>\n",
       "      <td>76.699997</td>\n",
       "      <td>3068800</td>\n",
       "    </tr>\n",
       "    <tr>\n",
       "      <th>6992</th>\n",
       "      <td>2023-09-01</td>\n",
       "      <td>77.459999</td>\n",
       "      <td>77.970001</td>\n",
       "      <td>77.139999</td>\n",
       "      <td>77.599998</td>\n",
       "      <td>77.599998</td>\n",
       "      <td>2306300</td>\n",
       "    </tr>\n",
       "  </tbody>\n",
       "</table>\n",
       "<p>6993 rows × 7 columns</p>\n",
       "</div>"
      ],
      "text/plain": [
       "            Date       Open       High        Low      Close  Adj Close  \\\n",
       "0     1995-11-21   1.078125   1.328125   1.078125   1.281250   0.994211   \n",
       "1     1995-11-22   1.281250   1.609375   1.265625   1.562500   1.212453   \n",
       "2     1995-11-24   1.562500   1.703125   1.562500   1.687500   1.309449   \n",
       "3     1995-11-27   1.781250   1.812500   1.531250   1.578125   1.224577   \n",
       "4     1995-11-28   1.578125   1.609375   1.562500   1.593750   1.236702   \n",
       "...          ...        ...        ...        ...        ...        ...   \n",
       "6988  2023-08-28  75.250000  76.139999  75.089996  76.010002  76.010002   \n",
       "6989  2023-08-29  75.900002  76.820000  75.669998  76.419998  76.419998   \n",
       "6990  2023-08-30  76.279999  76.550003  75.510002  76.430000  76.430000   \n",
       "6991  2023-08-31  76.809998  76.900002  76.190002  76.699997  76.699997   \n",
       "6992  2023-09-01  77.459999  77.970001  77.139999  77.599998  77.599998   \n",
       "\n",
       "        Volume  \n",
       "0     51412800  \n",
       "1     11921600  \n",
       "2      2419200  \n",
       "3      6720000  \n",
       "4      3451200  \n",
       "...        ...  \n",
       "6988   1376500  \n",
       "6989   1354300  \n",
       "6990   1784500  \n",
       "6991   3068800  \n",
       "6992   2306300  \n",
       "\n",
       "[6993 rows x 7 columns]"
      ]
     },
     "execution_count": 1,
     "metadata": {},
     "output_type": "execute_result"
    }
   ],
   "source": [
    "import pandas as pd\n",
    "\n",
    "df = pd.read_csv('NTAP.csv')\n",
    "df"
   ]
  },
  {
   "cell_type": "code",
   "execution_count": 2,
   "metadata": {},
   "outputs": [
    {
     "data": {
      "text/html": [
       "<div>\n",
       "<style scoped>\n",
       "    .dataframe tbody tr th:only-of-type {\n",
       "        vertical-align: middle;\n",
       "    }\n",
       "\n",
       "    .dataframe tbody tr th {\n",
       "        vertical-align: top;\n",
       "    }\n",
       "\n",
       "    .dataframe thead th {\n",
       "        text-align: right;\n",
       "    }\n",
       "</style>\n",
       "<table border=\"1\" class=\"dataframe\">\n",
       "  <thead>\n",
       "    <tr style=\"text-align: right;\">\n",
       "      <th></th>\n",
       "      <th>Date</th>\n",
       "      <th>Close</th>\n",
       "    </tr>\n",
       "  </thead>\n",
       "  <tbody>\n",
       "    <tr>\n",
       "      <th>0</th>\n",
       "      <td>1995-11-21</td>\n",
       "      <td>1.281250</td>\n",
       "    </tr>\n",
       "    <tr>\n",
       "      <th>1</th>\n",
       "      <td>1995-11-22</td>\n",
       "      <td>1.562500</td>\n",
       "    </tr>\n",
       "    <tr>\n",
       "      <th>2</th>\n",
       "      <td>1995-11-24</td>\n",
       "      <td>1.687500</td>\n",
       "    </tr>\n",
       "    <tr>\n",
       "      <th>3</th>\n",
       "      <td>1995-11-27</td>\n",
       "      <td>1.578125</td>\n",
       "    </tr>\n",
       "    <tr>\n",
       "      <th>4</th>\n",
       "      <td>1995-11-28</td>\n",
       "      <td>1.593750</td>\n",
       "    </tr>\n",
       "    <tr>\n",
       "      <th>...</th>\n",
       "      <td>...</td>\n",
       "      <td>...</td>\n",
       "    </tr>\n",
       "    <tr>\n",
       "      <th>6988</th>\n",
       "      <td>2023-08-28</td>\n",
       "      <td>76.010002</td>\n",
       "    </tr>\n",
       "    <tr>\n",
       "      <th>6989</th>\n",
       "      <td>2023-08-29</td>\n",
       "      <td>76.419998</td>\n",
       "    </tr>\n",
       "    <tr>\n",
       "      <th>6990</th>\n",
       "      <td>2023-08-30</td>\n",
       "      <td>76.430000</td>\n",
       "    </tr>\n",
       "    <tr>\n",
       "      <th>6991</th>\n",
       "      <td>2023-08-31</td>\n",
       "      <td>76.699997</td>\n",
       "    </tr>\n",
       "    <tr>\n",
       "      <th>6992</th>\n",
       "      <td>2023-09-01</td>\n",
       "      <td>77.599998</td>\n",
       "    </tr>\n",
       "  </tbody>\n",
       "</table>\n",
       "<p>6993 rows × 2 columns</p>\n",
       "</div>"
      ],
      "text/plain": [
       "            Date      Close\n",
       "0     1995-11-21   1.281250\n",
       "1     1995-11-22   1.562500\n",
       "2     1995-11-24   1.687500\n",
       "3     1995-11-27   1.578125\n",
       "4     1995-11-28   1.593750\n",
       "...          ...        ...\n",
       "6988  2023-08-28  76.010002\n",
       "6989  2023-08-29  76.419998\n",
       "6990  2023-08-30  76.430000\n",
       "6991  2023-08-31  76.699997\n",
       "6992  2023-09-01  77.599998\n",
       "\n",
       "[6993 rows x 2 columns]"
      ]
     },
     "execution_count": 2,
     "metadata": {},
     "output_type": "execute_result"
    }
   ],
   "source": [
    "df = df[['Date', 'Close']]\n",
    "df"
   ]
  },
  {
   "cell_type": "code",
   "execution_count": 3,
   "metadata": {},
   "outputs": [
    {
     "data": {
      "text/plain": [
       "0       1995-11-21\n",
       "1       1995-11-22\n",
       "2       1995-11-24\n",
       "3       1995-11-27\n",
       "4       1995-11-28\n",
       "           ...    \n",
       "6988    2023-08-28\n",
       "6989    2023-08-29\n",
       "6990    2023-08-30\n",
       "6991    2023-08-31\n",
       "6992    2023-09-01\n",
       "Name: Date, Length: 6993, dtype: object"
      ]
     },
     "execution_count": 3,
     "metadata": {},
     "output_type": "execute_result"
    }
   ],
   "source": [
    "df['Date']"
   ]
  },
  {
   "cell_type": "code",
   "execution_count": 4,
   "metadata": {},
   "outputs": [
    {
     "data": {
      "text/plain": [
       "datetime.datetime(1995, 11, 21, 0, 0)"
      ]
     },
     "execution_count": 4,
     "metadata": {},
     "output_type": "execute_result"
    }
   ],
   "source": [
    "import datetime\n",
    "\n",
    "def str_to_datetime(s):\n",
    "  split = s.split('-')\n",
    "  year, month, day = int(split[0]), int(split[1]), int(split[2])\n",
    "  return datetime.datetime(year=year, month=month, day=day)\n",
    "\n",
    "datetime_object = str_to_datetime('1995-11-21')\n",
    "datetime_object\n"
   ]
  },
  {
   "cell_type": "code",
   "execution_count": 5,
   "metadata": {},
   "outputs": [
    {
     "data": {
      "text/html": [
       "<div>\n",
       "<style scoped>\n",
       "    .dataframe tbody tr th:only-of-type {\n",
       "        vertical-align: middle;\n",
       "    }\n",
       "\n",
       "    .dataframe tbody tr th {\n",
       "        vertical-align: top;\n",
       "    }\n",
       "\n",
       "    .dataframe thead th {\n",
       "        text-align: right;\n",
       "    }\n",
       "</style>\n",
       "<table border=\"1\" class=\"dataframe\">\n",
       "  <thead>\n",
       "    <tr style=\"text-align: right;\">\n",
       "      <th></th>\n",
       "      <th>Date</th>\n",
       "      <th>Close</th>\n",
       "    </tr>\n",
       "  </thead>\n",
       "  <tbody>\n",
       "    <tr>\n",
       "      <th>0</th>\n",
       "      <td>1995-11-21</td>\n",
       "      <td>1.281250</td>\n",
       "    </tr>\n",
       "    <tr>\n",
       "      <th>1</th>\n",
       "      <td>1995-11-22</td>\n",
       "      <td>1.562500</td>\n",
       "    </tr>\n",
       "    <tr>\n",
       "      <th>2</th>\n",
       "      <td>1995-11-24</td>\n",
       "      <td>1.687500</td>\n",
       "    </tr>\n",
       "    <tr>\n",
       "      <th>3</th>\n",
       "      <td>1995-11-27</td>\n",
       "      <td>1.578125</td>\n",
       "    </tr>\n",
       "    <tr>\n",
       "      <th>4</th>\n",
       "      <td>1995-11-28</td>\n",
       "      <td>1.593750</td>\n",
       "    </tr>\n",
       "    <tr>\n",
       "      <th>...</th>\n",
       "      <td>...</td>\n",
       "      <td>...</td>\n",
       "    </tr>\n",
       "    <tr>\n",
       "      <th>6988</th>\n",
       "      <td>2023-08-28</td>\n",
       "      <td>76.010002</td>\n",
       "    </tr>\n",
       "    <tr>\n",
       "      <th>6989</th>\n",
       "      <td>2023-08-29</td>\n",
       "      <td>76.419998</td>\n",
       "    </tr>\n",
       "    <tr>\n",
       "      <th>6990</th>\n",
       "      <td>2023-08-30</td>\n",
       "      <td>76.430000</td>\n",
       "    </tr>\n",
       "    <tr>\n",
       "      <th>6991</th>\n",
       "      <td>2023-08-31</td>\n",
       "      <td>76.699997</td>\n",
       "    </tr>\n",
       "    <tr>\n",
       "      <th>6992</th>\n",
       "      <td>2023-09-01</td>\n",
       "      <td>77.599998</td>\n",
       "    </tr>\n",
       "  </tbody>\n",
       "</table>\n",
       "<p>6993 rows × 2 columns</p>\n",
       "</div>"
      ],
      "text/plain": [
       "            Date      Close\n",
       "0     1995-11-21   1.281250\n",
       "1     1995-11-22   1.562500\n",
       "2     1995-11-24   1.687500\n",
       "3     1995-11-27   1.578125\n",
       "4     1995-11-28   1.593750\n",
       "...          ...        ...\n",
       "6988  2023-08-28  76.010002\n",
       "6989  2023-08-29  76.419998\n",
       "6990  2023-08-30  76.430000\n",
       "6991  2023-08-31  76.699997\n",
       "6992  2023-09-01  77.599998\n",
       "\n",
       "[6993 rows x 2 columns]"
      ]
     },
     "execution_count": 5,
     "metadata": {},
     "output_type": "execute_result"
    }
   ],
   "source": [
    "df"
   ]
  },
  {
   "cell_type": "code",
   "execution_count": 6,
   "metadata": {},
   "outputs": [
    {
     "name": "stderr",
     "output_type": "stream",
     "text": [
      "<ipython-input-6-f6fc52bb0fa5>:1: SettingWithCopyWarning: \n",
      "A value is trying to be set on a copy of a slice from a DataFrame.\n",
      "Try using .loc[row_indexer,col_indexer] = value instead\n",
      "\n",
      "See the caveats in the documentation: https://pandas.pydata.org/pandas-docs/stable/user_guide/indexing.html#returning-a-view-versus-a-copy\n",
      "  df['Date'] = df['Date'].apply(str_to_datetime)\n"
     ]
    },
    {
     "data": {
      "text/plain": [
       "0      1995-11-21\n",
       "1      1995-11-22\n",
       "2      1995-11-24\n",
       "3      1995-11-27\n",
       "4      1995-11-28\n",
       "          ...    \n",
       "6988   2023-08-28\n",
       "6989   2023-08-29\n",
       "6990   2023-08-30\n",
       "6991   2023-08-31\n",
       "6992   2023-09-01\n",
       "Name: Date, Length: 6993, dtype: datetime64[ns]"
      ]
     },
     "execution_count": 6,
     "metadata": {},
     "output_type": "execute_result"
    }
   ],
   "source": [
    "df['Date'] = df['Date'].apply(str_to_datetime)\n",
    "df['Date']"
   ]
  },
  {
   "cell_type": "code",
   "execution_count": 7,
   "metadata": {},
   "outputs": [
    {
     "data": {
      "text/html": [
       "<div>\n",
       "<style scoped>\n",
       "    .dataframe tbody tr th:only-of-type {\n",
       "        vertical-align: middle;\n",
       "    }\n",
       "\n",
       "    .dataframe tbody tr th {\n",
       "        vertical-align: top;\n",
       "    }\n",
       "\n",
       "    .dataframe thead th {\n",
       "        text-align: right;\n",
       "    }\n",
       "</style>\n",
       "<table border=\"1\" class=\"dataframe\">\n",
       "  <thead>\n",
       "    <tr style=\"text-align: right;\">\n",
       "      <th></th>\n",
       "      <th>Close</th>\n",
       "    </tr>\n",
       "    <tr>\n",
       "      <th>Date</th>\n",
       "      <th></th>\n",
       "    </tr>\n",
       "  </thead>\n",
       "  <tbody>\n",
       "    <tr>\n",
       "      <th>1995-11-21</th>\n",
       "      <td>1.281250</td>\n",
       "    </tr>\n",
       "    <tr>\n",
       "      <th>1995-11-22</th>\n",
       "      <td>1.562500</td>\n",
       "    </tr>\n",
       "    <tr>\n",
       "      <th>1995-11-24</th>\n",
       "      <td>1.687500</td>\n",
       "    </tr>\n",
       "    <tr>\n",
       "      <th>1995-11-27</th>\n",
       "      <td>1.578125</td>\n",
       "    </tr>\n",
       "    <tr>\n",
       "      <th>1995-11-28</th>\n",
       "      <td>1.593750</td>\n",
       "    </tr>\n",
       "    <tr>\n",
       "      <th>...</th>\n",
       "      <td>...</td>\n",
       "    </tr>\n",
       "    <tr>\n",
       "      <th>2023-08-28</th>\n",
       "      <td>76.010002</td>\n",
       "    </tr>\n",
       "    <tr>\n",
       "      <th>2023-08-29</th>\n",
       "      <td>76.419998</td>\n",
       "    </tr>\n",
       "    <tr>\n",
       "      <th>2023-08-30</th>\n",
       "      <td>76.430000</td>\n",
       "    </tr>\n",
       "    <tr>\n",
       "      <th>2023-08-31</th>\n",
       "      <td>76.699997</td>\n",
       "    </tr>\n",
       "    <tr>\n",
       "      <th>2023-09-01</th>\n",
       "      <td>77.599998</td>\n",
       "    </tr>\n",
       "  </tbody>\n",
       "</table>\n",
       "<p>6993 rows × 1 columns</p>\n",
       "</div>"
      ],
      "text/plain": [
       "                Close\n",
       "Date                 \n",
       "1995-11-21   1.281250\n",
       "1995-11-22   1.562500\n",
       "1995-11-24   1.687500\n",
       "1995-11-27   1.578125\n",
       "1995-11-28   1.593750\n",
       "...               ...\n",
       "2023-08-28  76.010002\n",
       "2023-08-29  76.419998\n",
       "2023-08-30  76.430000\n",
       "2023-08-31  76.699997\n",
       "2023-09-01  77.599998\n",
       "\n",
       "[6993 rows x 1 columns]"
      ]
     },
     "execution_count": 7,
     "metadata": {},
     "output_type": "execute_result"
    }
   ],
   "source": [
    "df.index = df.pop('Date')\n",
    "df"
   ]
  },
  {
   "cell_type": "code",
   "execution_count": 8,
   "metadata": {},
   "outputs": [
    {
     "data": {
      "text/plain": [
       "[<matplotlib.lines.Line2D at 0x2784bdfbf40>]"
      ]
     },
     "execution_count": 8,
     "metadata": {},
     "output_type": "execute_result"
    },
    {
     "data": {
      "image/png": "[encoded data removed]",
      "text/plain": [
       "<Figure size 432x288 with 1 Axes>"
      ]
     },
     "metadata": {
      "needs_background": "light"
     },
     "output_type": "display_data"
    }
   ],
   "source": [
    "import matplotlib.pyplot as plt\n",
    "\n",
    "plt.plot(df.index, df['Close'])\n"
   ]
  },
  {
   "cell_type": "code",
   "execution_count": 9,
   "metadata": {},
   "outputs": [
    {
     "data": {
      "text/html": [
       "<div>\n",
       "<style scoped>\n",
       "    .dataframe tbody tr th:only-of-type {\n",
       "        vertical-align: middle;\n",
       "    }\n",
       "\n",
       "    .dataframe tbody tr th {\n",
       "        vertical-align: top;\n",
       "    }\n",
       "\n",
       "    .dataframe thead th {\n",
       "        text-align: right;\n",
       "    }\n",
       "</style>\n",
       "<table border=\"1\" class=\"dataframe\">\n",
       "  <thead>\n",
       "    <tr style=\"text-align: right;\">\n",
       "      <th></th>\n",
       "      <th>Target Date</th>\n",
       "      <th>Target-3</th>\n",
       "      <th>Target-2</th>\n",
       "      <th>Target-1</th>\n",
       "      <th>Target</th>\n",
       "    </tr>\n",
       "  </thead>\n",
       "  <tbody>\n",
       "    <tr>\n",
       "      <th>0</th>\n",
       "      <td>2021-11-27</td>\n",
       "      <td>86.190002</td>\n",
       "      <td>86.760002</td>\n",
       "      <td>89.779999</td>\n",
       "      <td>88.320000</td>\n",
       "    </tr>\n",
       "    <tr>\n",
       "      <th>1</th>\n",
       "      <td>2021-11-30</td>\n",
       "      <td>89.779999</td>\n",
       "      <td>88.320000</td>\n",
       "      <td>91.519997</td>\n",
       "      <td>88.879997</td>\n",
       "    </tr>\n",
       "    <tr>\n",
       "      <th>2</th>\n",
       "      <td>2021-12-01</td>\n",
       "      <td>88.320000</td>\n",
       "      <td>91.519997</td>\n",
       "      <td>88.879997</td>\n",
       "      <td>89.459999</td>\n",
       "    </tr>\n",
       "    <tr>\n",
       "      <th>3</th>\n",
       "      <td>2021-12-02</td>\n",
       "      <td>91.519997</td>\n",
       "      <td>88.879997</td>\n",
       "      <td>89.459999</td>\n",
       "      <td>90.180000</td>\n",
       "    </tr>\n",
       "    <tr>\n",
       "      <th>4</th>\n",
       "      <td>2021-12-03</td>\n",
       "      <td>88.879997</td>\n",
       "      <td>89.459999</td>\n",
       "      <td>90.180000</td>\n",
       "      <td>90.050003</td>\n",
       "    </tr>\n",
       "    <tr>\n",
       "      <th>...</th>\n",
       "      <td>...</td>\n",
       "      <td>...</td>\n",
       "      <td>...</td>\n",
       "      <td>...</td>\n",
       "      <td>...</td>\n",
       "    </tr>\n",
       "    <tr>\n",
       "      <th>438</th>\n",
       "      <td>2023-08-28</td>\n",
       "      <td>76.529999</td>\n",
       "      <td>75.529999</td>\n",
       "      <td>74.720001</td>\n",
       "      <td>76.010002</td>\n",
       "    </tr>\n",
       "    <tr>\n",
       "      <th>439</th>\n",
       "      <td>2023-08-29</td>\n",
       "      <td>75.529999</td>\n",
       "      <td>74.720001</td>\n",
       "      <td>76.010002</td>\n",
       "      <td>76.419998</td>\n",
       "    </tr>\n",
       "    <tr>\n",
       "      <th>440</th>\n",
       "      <td>2023-08-30</td>\n",
       "      <td>74.720001</td>\n",
       "      <td>76.010002</td>\n",
       "      <td>76.419998</td>\n",
       "      <td>76.430000</td>\n",
       "    </tr>\n",
       "    <tr>\n",
       "      <th>441</th>\n",
       "      <td>2023-08-31</td>\n",
       "      <td>76.010002</td>\n",
       "      <td>76.419998</td>\n",
       "      <td>76.430000</td>\n",
       "      <td>76.699997</td>\n",
       "    </tr>\n",
       "    <tr>\n",
       "      <th>442</th>\n",
       "      <td>2023-09-01</td>\n",
       "      <td>76.419998</td>\n",
       "      <td>76.430000</td>\n",
       "      <td>76.699997</td>\n",
       "      <td>77.599998</td>\n",
       "    </tr>\n",
       "  </tbody>\n",
       "</table>\n",
       "<p>443 rows × 5 columns</p>\n",
       "</div>"
      ],
      "text/plain": [
       "    Target Date   Target-3   Target-2   Target-1     Target\n",
       "0    2021-11-27  86.190002  86.760002  89.779999  88.320000\n",
       "1    2021-11-30  89.779999  88.320000  91.519997  88.879997\n",
       "2    2021-12-01  88.320000  91.519997  88.879997  89.459999\n",
       "3    2021-12-02  91.519997  88.879997  89.459999  90.180000\n",
       "4    2021-12-03  88.879997  89.459999  90.180000  90.050003\n",
       "..          ...        ...        ...        ...        ...\n",
       "438  2023-08-28  76.529999  75.529999  74.720001  76.010002\n",
       "439  2023-08-29  75.529999  74.720001  76.010002  76.419998\n",
       "440  2023-08-30  74.720001  76.010002  76.419998  76.430000\n",
       "441  2023-08-31  76.010002  76.419998  76.430000  76.699997\n",
       "442  2023-09-01  76.419998  76.430000  76.699997  77.599998\n",
       "\n",
       "[443 rows x 5 columns]"
      ]
     },
     "execution_count": 9,
     "metadata": {},
     "output_type": "execute_result"
    }
   ],
   "source": [
    "import numpy as np\n",
    "\n",
    "\n",
    "def df_to_windowed_df(dataframe, first_date_str, last_date_str, n=3):\n",
    "  first_date = str_to_datetime(first_date_str)\n",
    "  last_date = str_to_datetime(last_date_str)\n",
    "\n",
    "  target_date = first_date\n",
    "\n",
    "  dates = []\n",
    "  X, Y = [], []\n",
    "\n",
    "  last_time = False\n",
    "  while True:\n",
    "    df_subset = dataframe.loc[:target_date].tail(n+1)\n",
    "\n",
    "    if len(df_subset) != n+1:\n",
    "      print(f'Error: Window of size {n} is too large for date {target_date}')\n",
    "      return\n",
    "\n",
    "    values = df_subset['Close'].to_numpy()\n",
    "    x, y = values[:-1], values[-1]\n",
    "\n",
    "    dates.append(target_date)\n",
    "    X.append(x)\n",
    "    Y.append(y)\n",
    "\n",
    "    next_week = dataframe.loc[target_date:target_date +\n",
    "                              datetime.timedelta(days=7)]\n",
    "    next_datetime_str = str(next_week.head(2).tail(1).index.values[0])\n",
    "    next_date_str = next_datetime_str.split('T')[0]\n",
    "    year_month_day = next_date_str.split('-')\n",
    "    year, month, day = year_month_day\n",
    "    next_date = datetime.datetime(\n",
    "        day=int(day), month=int(month), year=int(year))\n",
    "\n",
    "    if last_time:\n",
    "      break\n",
    "\n",
    "    target_date = next_date\n",
    "\n",
    "    if target_date == last_date:\n",
    "      last_time = True\n",
    "\n",
    "  ret_df = pd.DataFrame({})\n",
    "  ret_df['Target Date'] = dates\n",
    "\n",
    "  X = np.array(X)\n",
    "  for i in range(0, n):\n",
    "    X[:, i]\n",
    "    ret_df[f'Target-{n-i}'] = X[:, i]\n",
    "\n",
    "  ret_df['Target'] = Y\n",
    "\n",
    "  return ret_df\n",
    "\n",
    "\n",
    "# Start day second time around: '2021-03-25'\n",
    "windowed_df = df_to_windowed_df(df,\n",
    "                                '2021-11-27',\n",
    "                                '2023-09-01',\n",
    "                                n=3)\n",
    "windowed_df\n"
   ]
  },
  {
   "cell_type": "code",
   "execution_count": 10,
   "metadata": {},
   "outputs": [
    {
     "data": {
      "text/plain": [
       "((443,), (443, 3, 1), (443,))"
      ]
     },
     "execution_count": 10,
     "metadata": {},
     "output_type": "execute_result"
    }
   ],
   "source": [
    "def windowed_df_to_date_X_y(windowed_dataframe):\n",
    "  df_as_np = windowed_dataframe.to_numpy()\n",
    "\n",
    "  dates = df_as_np[:, 0]\n",
    "\n",
    "  middle_matrix = df_as_np[:, 1:-1]\n",
    "  X = middle_matrix.reshape((len(dates), middle_matrix.shape[1], 1))\n",
    "\n",
    "  Y = df_as_np[:, -1]\n",
    "\n",
    "  return dates, X.astype(np.float32), Y.astype(np.float32)\n",
    "\n",
    "\n",
    "dates, X, y = windowed_df_to_date_X_y(windowed_df)\n",
    "\n",
    "dates.shape, X.shape, y.shape\n"
   ]
  },
  {
   "cell_type": "code",
   "execution_count": 11,
   "metadata": {},
   "outputs": [
    {
     "data": {
      "text/plain": [
       "<matplotlib.legend.Legend at 0x2784be3a850>"
      ]
     },
     "execution_count": 11,
     "metadata": {},
     "output_type": "execute_result"
    },
    {
     "data": {
      "image/png": "[encoded data removed]",
      "text/plain": [
       "<Figure size 432x288 with 1 Axes>"
      ]
     },
     "metadata": {
      "needs_background": "light"
     },
     "output_type": "display_data"
    }
   ],
   "source": [
    "q_80 = int(len(dates) * .8)\n",
    "q_90 = int(len(dates) * .9)\n",
    "\n",
    "dates_train, X_train, y_train = dates[:q_80], X[:q_80], y[:q_80]\n",
    "\n",
    "dates_val, X_val, y_val = dates[q_80:q_90], X[q_80:q_90], y[q_80:q_90]\n",
    "dates_test, X_test, y_test = dates[q_90:], X[q_90:], y[q_90:]\n",
    "\n",
    "plt.plot(dates_train, y_train)\n",
    "plt.plot(dates_val, y_val)\n",
    "plt.plot(dates_test, y_test)\n",
    "\n",
    "plt.legend(['Train', 'Validation', 'Test'])\n"
   ]
  },
  {
   "cell_type": "code",
   "execution_count": 12,
   "metadata": {},
   "outputs": [
    {
     "name": "stdout",
     "output_type": "stream",
     "text": [
      "Epoch 1/100\n",
      "12/12 [==============================] - 3s 47ms/step - loss: 5275.5771 - mean_absolute_error: 71.9618 - val_loss: 4496.3350 - val_mean_absolute_error: 66.9146\n",
      "Epoch 2/100\n",
      "12/12 [==============================] - 0s 7ms/step - loss: 5074.9766 - mean_absolute_error: 70.5579 - val_loss: 4274.1841 - val_mean_absolute_error: 65.2335\n",
      "Epoch 3/100\n",
      "12/12 [==============================] - 0s 7ms/step - loss: 4786.5259 - mean_absolute_error: 68.4832 - val_loss: 3928.4119 - val_mean_absolute_error: 62.5272\n",
      "Epoch 4/100\n",
      "12/12 [==============================] - 0s 7ms/step - loss: 4355.4209 - mean_absolute_error: 65.2456 - val_loss: 3438.9116 - val_mean_absolute_error: 58.4793\n",
      "Epoch 5/100\n",
      "12/12 [==============================] - 0s 8ms/step - loss: 3751.3599 - mean_absolute_error: 60.4323 - val_loss: 2742.6038 - val_mean_absolute_error: 52.1806\n",
      "Epoch 6/100\n",
      "12/12 [==============================] - 0s 7ms/step - loss: 2913.2114 - mean_absolute_error: 52.9771 - val_loss: 1890.2301 - val_mean_absolute_error: 43.2549\n",
      "Epoch 7/100\n",
      "12/12 [==============================] - 0s 7ms/step - loss: 1980.5253 - mean_absolute_error: 43.3191 - val_loss: 1068.9272 - val_mean_absolute_error: 32.3846\n",
      "Epoch 8/100\n",
      "12/12 [==============================] - 0s 7ms/step - loss: 1069.8633 - mean_absolute_error: 30.8420 - val_loss: 315.0478 - val_mean_absolute_error: 17.1558\n",
      "Epoch 9/100\n",
      "12/12 [==============================] - 0s 7ms/step - loss: 347.8073 - mean_absolute_error: 14.9116 - val_loss: 20.6776 - val_mean_absolute_error: 4.0801\n",
      "Epoch 10/100\n",
      "12/12 [==============================] - 0s 7ms/step - loss: 105.7767 - mean_absolute_error: 8.3070 - val_loss: 73.9230 - val_mean_absolute_error: 7.4371\n",
      "Epoch 11/100\n",
      "12/12 [==============================] - 0s 7ms/step - loss: 106.0324 - mean_absolute_error: 9.1830 - val_loss: 60.5373 - val_mean_absolute_error: 6.5465\n",
      "Epoch 12/100\n",
      "12/12 [==============================] - 0s 6ms/step - loss: 97.6665 - mean_absolute_error: 8.4919 - val_loss: 40.8472 - val_mean_absolute_error: 5.1605\n",
      "Epoch 13/100\n",
      "12/12 [==============================] - 0s 7ms/step - loss: 96.0851 - mean_absolute_error: 8.1068 - val_loss: 31.9345 - val_mean_absolute_error: 4.6364\n",
      "Epoch 14/100\n",
      "12/12 [==============================] - 0s 7ms/step - loss: 95.7590 - mean_absolute_error: 7.8978 - val_loss: 27.5777 - val_mean_absolute_error: 4.3583\n",
      "Epoch 15/100\n",
      "12/12 [==============================] - 0s 7ms/step - loss: 92.5823 - mean_absolute_error: 7.5869 - val_loss: 25.5384 - val_mean_absolute_error: 4.1820\n",
      "Epoch 16/100\n",
      "12/12 [==============================] - 0s 7ms/step - loss: 82.1670 - mean_absolute_error: 7.3446 - val_loss: 18.7369 - val_mean_absolute_error: 3.6292\n",
      "Epoch 17/100\n",
      "12/12 [==============================] - 0s 6ms/step - loss: 66.7193 - mean_absolute_error: 6.5032 - val_loss: 12.0081 - val_mean_absolute_error: 2.9682\n",
      "Epoch 18/100\n",
      "12/12 [==============================] - 0s 7ms/step - loss: 53.2946 - mean_absolute_error: 5.5999 - val_loss: 12.0442 - val_mean_absolute_error: 2.8695\n",
      "Epoch 19/100\n",
      "12/12 [==============================] - 0s 7ms/step - loss: 42.7624 - mean_absolute_error: 5.0909 - val_loss: 9.2144 - val_mean_absolute_error: 2.5302\n",
      "Epoch 20/100\n",
      "12/12 [==============================] - 0s 7ms/step - loss: 34.9876 - mean_absolute_error: 4.5744 - val_loss: 7.6881 - val_mean_absolute_error: 2.2896\n",
      "Epoch 21/100\n",
      "12/12 [==============================] - 0s 7ms/step - loss: 27.4460 - mean_absolute_error: 3.9579 - val_loss: 13.0643 - val_mean_absolute_error: 3.0976\n",
      "Epoch 22/100\n",
      "12/12 [==============================] - 0s 7ms/step - loss: 21.6859 - mean_absolute_error: 3.6108 - val_loss: 10.0057 - val_mean_absolute_error: 2.7006\n",
      "Epoch 23/100\n",
      "12/12 [==============================] - 0s 6ms/step - loss: 17.7936 - mean_absolute_error: 3.3373 - val_loss: 5.9041 - val_mean_absolute_error: 2.0179\n",
      "Epoch 24/100\n",
      "12/12 [==============================] - 0s 18ms/step - loss: 12.3410 - mean_absolute_error: 2.7148 - val_loss: 3.7339 - val_mean_absolute_error: 1.5843\n",
      "Epoch 25/100\n",
      "12/12 [==============================] - 0s 6ms/step - loss: 8.2443 - mean_absolute_error: 2.1770 - val_loss: 2.0330 - val_mean_absolute_error: 1.1233\n",
      "Epoch 26/100\n",
      "12/12 [==============================] - 0s 6ms/step - loss: 5.8187 - mean_absolute_error: 1.9073 - val_loss: 2.5311 - val_mean_absolute_error: 1.3022\n",
      "Epoch 27/100\n",
      "12/12 [==============================] - 0s 7ms/step - loss: 4.0162 - mean_absolute_error: 1.5931 - val_loss: 1.6425 - val_mean_absolute_error: 0.9456\n",
      "Epoch 28/100\n",
      "12/12 [==============================] - 0s 7ms/step - loss: 2.9634 - mean_absolute_error: 1.3395 - val_loss: 2.7297 - val_mean_absolute_error: 1.2416\n",
      "Epoch 29/100\n",
      "12/12 [==============================] - 0s 8ms/step - loss: 2.9410 - mean_absolute_error: 1.3480 - val_loss: 2.2459 - val_mean_absolute_error: 1.0913\n",
      "Epoch 30/100\n",
      "12/12 [==============================] - 0s 7ms/step - loss: 2.7589 - mean_absolute_error: 1.3158 - val_loss: 2.0156 - val_mean_absolute_error: 1.0434\n",
      "Epoch 31/100\n",
      "12/12 [==============================] - 0s 6ms/step - loss: 2.7972 - mean_absolute_error: 1.3055 - val_loss: 1.7697 - val_mean_absolute_error: 1.0069\n",
      "Epoch 32/100\n",
      "12/12 [==============================] - 0s 7ms/step - loss: 2.6194 - mean_absolute_error: 1.2911 - val_loss: 2.5648 - val_mean_absolute_error: 1.1795\n",
      "Epoch 33/100\n",
      "12/12 [==============================] - 0s 7ms/step - loss: 2.7293 - mean_absolute_error: 1.3067 - val_loss: 1.8180 - val_mean_absolute_error: 1.0137\n",
      "Epoch 34/100\n",
      "12/12 [==============================] - 0s 6ms/step - loss: 2.5130 - mean_absolute_error: 1.2539 - val_loss: 2.0810 - val_mean_absolute_error: 1.0520\n",
      "Epoch 35/100\n",
      "12/12 [==============================] - 0s 7ms/step - loss: 2.5087 - mean_absolute_error: 1.2444 - val_loss: 2.7919 - val_mean_absolute_error: 1.2544\n",
      "Epoch 36/100\n",
      "12/12 [==============================] - 0s 7ms/step - loss: 2.4734 - mean_absolute_error: 1.2283 - val_loss: 4.8496 - val_mean_absolute_error: 1.8633\n",
      "Epoch 37/100\n",
      "12/12 [==============================] - 0s 7ms/step - loss: 3.3243 - mean_absolute_error: 1.4421 - val_loss: 2.4225 - val_mean_absolute_error: 1.1345\n",
      "Epoch 38/100\n",
      "12/12 [==============================] - 0s 10ms/step - loss: 2.2902 - mean_absolute_error: 1.1962 - val_loss: 4.8567 - val_mean_absolute_error: 1.8696\n",
      "Epoch 39/100\n",
      "12/12 [==============================] - 0s 6ms/step - loss: 2.9572 - mean_absolute_error: 1.3726 - val_loss: 2.6204 - val_mean_absolute_error: 1.1878\n",
      "Epoch 40/100\n",
      "12/12 [==============================] - 0s 7ms/step - loss: 2.6917 - mean_absolute_error: 1.3096 - val_loss: 1.6543 - val_mean_absolute_error: 0.9312\n",
      "Epoch 41/100\n",
      "12/12 [==============================] - 0s 7ms/step - loss: 2.4255 - mean_absolute_error: 1.2176 - val_loss: 1.7061 - val_mean_absolute_error: 0.9889\n",
      "Epoch 42/100\n",
      "12/12 [==============================] - 0s 6ms/step - loss: 2.7969 - mean_absolute_error: 1.3320 - val_loss: 1.5932 - val_mean_absolute_error: 0.9396\n",
      "Epoch 43/100\n",
      "12/12 [==============================] - 0s 7ms/step - loss: 2.5569 - mean_absolute_error: 1.2435 - val_loss: 1.6168 - val_mean_absolute_error: 0.9607\n",
      "Epoch 44/100\n",
      "12/12 [==============================] - 0s 6ms/step - loss: 2.4345 - mean_absolute_error: 1.2311 - val_loss: 1.7632 - val_mean_absolute_error: 1.0006\n",
      "Epoch 45/100\n",
      "12/12 [==============================] - 0s 7ms/step - loss: 3.1052 - mean_absolute_error: 1.4214 - val_loss: 2.3397 - val_mean_absolute_error: 1.0933\n",
      "Epoch 46/100\n",
      "12/12 [==============================] - 0s 6ms/step - loss: 2.7908 - mean_absolute_error: 1.3000 - val_loss: 4.3435 - val_mean_absolute_error: 1.7206\n",
      "Epoch 47/100\n",
      "12/12 [==============================] - 0s 7ms/step - loss: 2.6741 - mean_absolute_error: 1.2964 - val_loss: 3.4088 - val_mean_absolute_error: 1.4260\n",
      "Epoch 48/100\n",
      "12/12 [==============================] - 0s 7ms/step - loss: 3.0966 - mean_absolute_error: 1.3714 - val_loss: 3.0592 - val_mean_absolute_error: 1.3190\n",
      "Epoch 49/100\n",
      "12/12 [==============================] - 0s 6ms/step - loss: 2.5201 - mean_absolute_error: 1.2523 - val_loss: 2.0375 - val_mean_absolute_error: 1.0147\n",
      "Epoch 50/100\n",
      "12/12 [==============================] - 0s 6ms/step - loss: 2.3125 - mean_absolute_error: 1.1626 - val_loss: 4.1279 - val_mean_absolute_error: 1.6622\n",
      "Epoch 51/100\n",
      "12/12 [==============================] - 0s 8ms/step - loss: 2.5246 - mean_absolute_error: 1.2584 - val_loss: 2.4902 - val_mean_absolute_error: 1.1436\n",
      "Epoch 52/100\n",
      "12/12 [==============================] - 0s 7ms/step - loss: 2.4750 - mean_absolute_error: 1.2325 - val_loss: 1.8679 - val_mean_absolute_error: 0.9678\n",
      "Epoch 53/100\n",
      "12/12 [==============================] - 0s 7ms/step - loss: 2.3223 - mean_absolute_error: 1.1863 - val_loss: 2.0201 - val_mean_absolute_error: 1.0211\n",
      "Epoch 54/100\n",
      "12/12 [==============================] - 0s 6ms/step - loss: 2.4341 - mean_absolute_error: 1.2301 - val_loss: 2.0422 - val_mean_absolute_error: 1.0024\n",
      "Epoch 55/100\n",
      "12/12 [==============================] - 0s 7ms/step - loss: 2.3616 - mean_absolute_error: 1.2092 - val_loss: 1.7923 - val_mean_absolute_error: 0.9817\n",
      "Epoch 56/100\n",
      "12/12 [==============================] - 0s 7ms/step - loss: 2.3018 - mean_absolute_error: 1.1715 - val_loss: 1.7124 - val_mean_absolute_error: 0.9364\n",
      "Epoch 57/100\n",
      "12/12 [==============================] - 0s 6ms/step - loss: 2.3254 - mean_absolute_error: 1.2062 - val_loss: 1.6458 - val_mean_absolute_error: 0.9445\n",
      "Epoch 58/100\n",
      "12/12 [==============================] - 0s 7ms/step - loss: 2.8755 - mean_absolute_error: 1.3252 - val_loss: 2.5497 - val_mean_absolute_error: 1.2890\n",
      "Epoch 59/100\n",
      "12/12 [==============================] - 0s 6ms/step - loss: 3.1980 - mean_absolute_error: 1.3810 - val_loss: 1.7975 - val_mean_absolute_error: 1.0198\n",
      "Epoch 60/100\n",
      "12/12 [==============================] - 0s 6ms/step - loss: 2.4070 - mean_absolute_error: 1.2090 - val_loss: 1.6528 - val_mean_absolute_error: 0.9343\n",
      "Epoch 61/100\n",
      "12/12 [==============================] - 0s 8ms/step - loss: 2.4074 - mean_absolute_error: 1.1957 - val_loss: 1.8498 - val_mean_absolute_error: 1.0081\n",
      "Epoch 62/100\n",
      "12/12 [==============================] - 0s 7ms/step - loss: 2.7695 - mean_absolute_error: 1.2972 - val_loss: 1.8913 - val_mean_absolute_error: 0.9590\n",
      "Epoch 63/100\n",
      "12/12 [==============================] - 0s 6ms/step - loss: 2.5983 - mean_absolute_error: 1.2626 - val_loss: 1.6685 - val_mean_absolute_error: 0.9227\n",
      "Epoch 64/100\n",
      "12/12 [==============================] - 0s 7ms/step - loss: 2.4891 - mean_absolute_error: 1.2458 - val_loss: 1.7915 - val_mean_absolute_error: 1.0205\n",
      "Epoch 65/100\n",
      "12/12 [==============================] - 0s 7ms/step - loss: 3.1180 - mean_absolute_error: 1.4130 - val_loss: 1.6576 - val_mean_absolute_error: 0.9589\n",
      "Epoch 66/100\n",
      "12/12 [==============================] - 0s 7ms/step - loss: 2.3957 - mean_absolute_error: 1.2121 - val_loss: 1.6685 - val_mean_absolute_error: 0.9241\n",
      "Epoch 67/100\n",
      "12/12 [==============================] - 0s 8ms/step - loss: 2.3289 - mean_absolute_error: 1.2005 - val_loss: 1.6529 - val_mean_absolute_error: 0.9566\n",
      "Epoch 68/100\n",
      "12/12 [==============================] - 0s 6ms/step - loss: 2.3212 - mean_absolute_error: 1.1710 - val_loss: 1.9728 - val_mean_absolute_error: 0.9850\n",
      "Epoch 69/100\n",
      "12/12 [==============================] - 0s 7ms/step - loss: 2.2736 - mean_absolute_error: 1.1758 - val_loss: 2.8821 - val_mean_absolute_error: 1.2563\n",
      "Epoch 70/100\n",
      "12/12 [==============================] - 0s 7ms/step - loss: 2.8660 - mean_absolute_error: 1.3128 - val_loss: 4.0975 - val_mean_absolute_error: 1.6422\n",
      "Epoch 71/100\n",
      "12/12 [==============================] - 0s 6ms/step - loss: 2.5943 - mean_absolute_error: 1.2464 - val_loss: 2.0372 - val_mean_absolute_error: 1.0006\n",
      "Epoch 72/100\n",
      "12/12 [==============================] - 0s 6ms/step - loss: 2.3883 - mean_absolute_error: 1.2150 - val_loss: 2.1525 - val_mean_absolute_error: 1.0235\n",
      "Epoch 73/100\n",
      "12/12 [==============================] - 0s 7ms/step - loss: 2.2038 - mean_absolute_error: 1.1530 - val_loss: 1.7502 - val_mean_absolute_error: 0.9579\n",
      "Epoch 74/100\n",
      "12/12 [==============================] - 0s 7ms/step - loss: 2.2268 - mean_absolute_error: 1.1580 - val_loss: 2.1680 - val_mean_absolute_error: 1.0250\n",
      "Epoch 75/100\n",
      "12/12 [==============================] - 0s 6ms/step - loss: 2.3838 - mean_absolute_error: 1.2013 - val_loss: 1.9876 - val_mean_absolute_error: 0.9709\n",
      "Epoch 76/100\n",
      "12/12 [==============================] - 0s 6ms/step - loss: 2.5296 - mean_absolute_error: 1.2224 - val_loss: 1.6759 - val_mean_absolute_error: 0.9569\n",
      "Epoch 77/100\n",
      "12/12 [==============================] - 0s 7ms/step - loss: 2.5412 - mean_absolute_error: 1.2239 - val_loss: 1.7272 - val_mean_absolute_error: 0.9880\n",
      "Epoch 78/100\n",
      "12/12 [==============================] - 0s 7ms/step - loss: 2.4263 - mean_absolute_error: 1.2254 - val_loss: 1.8935 - val_mean_absolute_error: 0.9442\n",
      "Epoch 79/100\n",
      "12/12 [==============================] - 0s 6ms/step - loss: 2.6188 - mean_absolute_error: 1.2599 - val_loss: 2.0742 - val_mean_absolute_error: 1.0059\n",
      "Epoch 80/100\n",
      "12/12 [==============================] - 0s 7ms/step - loss: 2.5818 - mean_absolute_error: 1.2851 - val_loss: 1.9755 - val_mean_absolute_error: 0.9773\n",
      "Epoch 81/100\n",
      "12/12 [==============================] - 0s 7ms/step - loss: 2.5750 - mean_absolute_error: 1.2586 - val_loss: 1.8717 - val_mean_absolute_error: 0.9639\n",
      "Epoch 82/100\n",
      "12/12 [==============================] - 0s 7ms/step - loss: 2.1639 - mean_absolute_error: 1.1368 - val_loss: 2.2633 - val_mean_absolute_error: 1.0547\n",
      "Epoch 83/100\n",
      "12/12 [==============================] - 0s 7ms/step - loss: 2.8309 - mean_absolute_error: 1.3310 - val_loss: 2.2335 - val_mean_absolute_error: 1.0348\n",
      "Epoch 84/100\n",
      "12/12 [==============================] - 0s 7ms/step - loss: 2.3729 - mean_absolute_error: 1.1897 - val_loss: 1.9063 - val_mean_absolute_error: 0.9604\n",
      "Epoch 85/100\n",
      "12/12 [==============================] - 0s 7ms/step - loss: 2.2374 - mean_absolute_error: 1.1518 - val_loss: 1.7599 - val_mean_absolute_error: 0.9929\n",
      "Epoch 86/100\n",
      "12/12 [==============================] - 0s 7ms/step - loss: 2.7231 - mean_absolute_error: 1.2854 - val_loss: 1.6728 - val_mean_absolute_error: 0.9493\n",
      "Epoch 87/100\n",
      "12/12 [==============================] - 0s 7ms/step - loss: 2.2738 - mean_absolute_error: 1.1694 - val_loss: 2.2734 - val_mean_absolute_error: 1.0533\n",
      "Epoch 88/100\n",
      "12/12 [==============================] - 0s 7ms/step - loss: 2.6395 - mean_absolute_error: 1.2568 - val_loss: 3.1653 - val_mean_absolute_error: 1.3332\n",
      "Epoch 89/100\n",
      "12/12 [==============================] - 0s 10ms/step - loss: 2.3423 - mean_absolute_error: 1.1911 - val_loss: 2.5319 - val_mean_absolute_error: 1.1342\n",
      "Epoch 90/100\n",
      "12/12 [==============================] - 0s 7ms/step - loss: 2.2730 - mean_absolute_error: 1.1530 - val_loss: 2.0061 - val_mean_absolute_error: 0.9942\n",
      "Epoch 91/100\n",
      "12/12 [==============================] - 0s 6ms/step - loss: 2.2687 - mean_absolute_error: 1.1646 - val_loss: 1.9446 - val_mean_absolute_error: 0.9735\n",
      "Epoch 92/100\n",
      "12/12 [==============================] - 0s 7ms/step - loss: 2.1859 - mean_absolute_error: 1.1447 - val_loss: 1.9748 - val_mean_absolute_error: 0.9834\n",
      "Epoch 93/100\n",
      "12/12 [==============================] - 0s 6ms/step - loss: 2.1656 - mean_absolute_error: 1.1433 - val_loss: 1.7004 - val_mean_absolute_error: 0.9626\n",
      "Epoch 94/100\n",
      "12/12 [==============================] - 0s 7ms/step - loss: 2.2783 - mean_absolute_error: 1.2012 - val_loss: 1.7018 - val_mean_absolute_error: 0.9626\n",
      "Epoch 95/100\n",
      "12/12 [==============================] - 0s 7ms/step - loss: 2.6519 - mean_absolute_error: 1.2674 - val_loss: 1.8489 - val_mean_absolute_error: 1.0261\n",
      "Epoch 96/100\n",
      "12/12 [==============================] - 0s 6ms/step - loss: 2.4066 - mean_absolute_error: 1.2071 - val_loss: 1.7702 - val_mean_absolute_error: 0.9433\n",
      "Epoch 97/100\n",
      "12/12 [==============================] - 0s 6ms/step - loss: 2.3437 - mean_absolute_error: 1.1845 - val_loss: 1.6993 - val_mean_absolute_error: 0.9479\n",
      "Epoch 98/100\n",
      "12/12 [==============================] - 0s 7ms/step - loss: 2.3816 - mean_absolute_error: 1.2027 - val_loss: 1.7069 - val_mean_absolute_error: 0.9613\n",
      "Epoch 99/100\n",
      "12/12 [==============================] - 0s 6ms/step - loss: 2.1990 - mean_absolute_error: 1.1446 - val_loss: 2.3152 - val_mean_absolute_error: 1.0619\n",
      "Epoch 100/100\n",
      "12/12 [==============================] - 0s 5ms/step - loss: 2.3723 - mean_absolute_error: 1.2080 - val_loss: 2.8440 - val_mean_absolute_error: 1.2329\n"
     ]
    },
    {
     "data": {
      "text/plain": [
       "<keras.src.callbacks.History at 0x2786533f850>"
      ]
     },
     "execution_count": 12,
     "metadata": {},
     "output_type": "execute_result"
    }
   ],
   "source": [
    "from tensorflow.keras.models import Sequential\n",
    "from tensorflow.keras.optimizers import Adam\n",
    "from tensorflow.keras import layers\n",
    "\n",
    "model = Sequential([layers.Input((3, 1)),\n",
    "                    layers.LSTM(64),\n",
    "                    layers.Dense(32, activation='relu'),\n",
    "                    layers.Dense(32, activation='relu'),\n",
    "                    layers.Dense(1)])\n",
    "\n",
    "model.compile(loss='mse',\n",
    "              optimizer=Adam(learning_rate=0.001),\n",
    "              metrics=['mean_absolute_error'])\n",
    "\n",
    "model.fit(X_train, y_train, validation_data=(X_val, y_val), epochs=100)\n"
   ]
  },
  {
   "cell_type": "code",
   "execution_count": 13,
   "metadata": {},
   "outputs": [
    {
     "name": "stdout",
     "output_type": "stream",
     "text": [
      "12/12 [==============================] - 0s 2ms/step\n"
     ]
    },
    {
     "data": {
      "text/plain": [
       "<matplotlib.legend.Legend at 0x27869ba0820>"
      ]
     },
     "execution_count": 13,
     "metadata": {},
     "output_type": "execute_result"
    },
    {
     "data": {
      "image/png": "[encoded data removed]",
      "text/plain": [
       "<Figure size 432x288 with 1 Axes>"
      ]
     },
     "metadata": {
      "needs_background": "light"
     },
     "output_type": "display_data"
    }
   ],
   "source": [
    "train_predictions = model.predict(X_train).flatten()\n",
    "\n",
    "plt.plot(dates_train, train_predictions)\n",
    "plt.plot(dates_train, y_train)\n",
    "plt.legend(['Training Predictions', 'Training Observations'])\n"
   ]
  },
  {
   "cell_type": "code",
   "execution_count": 14,
   "metadata": {},
   "outputs": [
    {
     "name": "stdout",
     "output_type": "stream",
     "text": [
      "2/2 [==============================] - 0s 0s/step\n"
     ]
    },
    {
     "data": {
      "text/plain": [
       "<matplotlib.legend.Legend at 0x2786ac00e80>"
      ]
     },
     "execution_count": 14,
     "metadata": {},
     "output_type": "execute_result"
    },
    {
     "data": {
      "image/png": "[encoded data removed]",
      "text/plain": [
       "<Figure size 432x288 with 1 Axes>"
      ]
     },
     "metadata": {
      "needs_background": "light"
     },
     "output_type": "display_data"
    }
   ],
   "source": [
    "val_predictions = model.predict(X_val).flatten()\n",
    "\n",
    "plt.plot(dates_val, val_predictions)\n",
    "plt.plot(dates_val, y_val)\n",
    "plt.legend(['Validation Predictions', 'Validation Observations'])\n"
   ]
  },
  {
   "cell_type": "code",
   "execution_count": 15,
   "metadata": {},
   "outputs": [
    {
     "name": "stdout",
     "output_type": "stream",
     "text": [
      "2/2 [==============================] - 0s 8ms/step\n"
     ]
    },
    {
     "data": {
      "text/plain": [
       "<matplotlib.legend.Legend at 0x2786acc6400>"
      ]
     },
     "execution_count": 15,
     "metadata": {},
     "output_type": "execute_result"
    },
    {
     "data": {
      "image/png": "[encoded data removed]",
      "text/plain": [
       "<Figure size 432x288 with 1 Axes>"
      ]
     },
     "metadata": {
      "needs_background": "light"
     },
     "output_type": "display_data"
    }
   ],
   "source": [
    "test_predictions = model.predict(X_test).flatten()\n",
    "\n",
    "plt.plot(dates_test, test_predictions)\n",
    "plt.plot(dates_test, y_test)\n",
    "plt.legend(['Testing Predictions', 'Testing Observations'])\n"
   ]
  },
  {
   "cell_type": "code",
   "execution_count": 16,
   "metadata": {},
   "outputs": [
    {
     "data": {
      "text/plain": [
       "<matplotlib.legend.Legend at 0x2786ad3d5e0>"
      ]
     },
     "execution_count": 16,
     "metadata": {},
     "output_type": "execute_result"
    },
    {
     "data": {
      "image/png": "[encoded data removed]",
      "text/plain": [
       "<Figure size 432x288 with 1 Axes>"
      ]
     },
     "metadata": {
      "needs_background": "light"
     },
     "output_type": "display_data"
    }
   ],
   "source": [
    "plt.plot(dates_train, train_predictions)\n",
    "plt.plot(dates_train, y_train)\n",
    "plt.plot(dates_val, val_predictions)\n",
    "plt.plot(dates_val, y_val)\n",
    "plt.plot(dates_test, test_predictions)\n",
    "plt.plot(dates_test, y_test)\n",
    "plt.legend(['Training Predictions',\n",
    "            'Training Observations',\n",
    "            'Validation Predictions',\n",
    "            'Validation Observations',\n",
    "            'Testing Predictions',\n",
    "            'Testing Observations'])\n"
   ]
  },
  {
   "cell_type": "code",
   "execution_count": 17,
   "metadata": {},
   "outputs": [
    {
     "name": "stdout",
     "output_type": "stream",
     "text": [
      "1/1 [==============================] - 0s 22ms/step\n",
      "1/1 [==============================] - 0s 25ms/step\n",
      "1/1 [==============================] - 0s 23ms/step\n",
      "1/1 [==============================] - 0s 24ms/step\n",
      "1/1 [==============================] - 0s 24ms/step\n",
      "1/1 [==============================] - 0s 24ms/step\n",
      "1/1 [==============================] - 0s 24ms/step\n",
      "1/1 [==============================] - 0s 16ms/step\n",
      "1/1 [==============================] - 0s 16ms/step\n",
      "1/1 [==============================] - 0s 24ms/step\n",
      "1/1 [==============================] - 0s 17ms/step\n",
      "1/1 [==============================] - 0s 24ms/step\n",
      "1/1 [==============================] - 0s 24ms/step\n",
      "1/1 [==============================] - 0s 33ms/step\n",
      "1/1 [==============================] - 0s 16ms/step\n",
      "1/1 [==============================] - 0s 26ms/step\n",
      "1/1 [==============================] - 0s 20ms/step\n",
      "1/1 [==============================] - 0s 24ms/step\n",
      "1/1 [==============================] - 0s 34ms/step\n",
      "1/1 [==============================] - 0s 23ms/step\n",
      "1/1 [==============================] - 0s 16ms/step\n",
      "1/1 [==============================] - 0s 24ms/step\n",
      "1/1 [==============================] - 0s 24ms/step\n",
      "1/1 [==============================] - 0s 28ms/step\n",
      "1/1 [==============================] - 0s 24ms/step\n",
      "1/1 [==============================] - 0s 24ms/step\n",
      "1/1 [==============================] - 0s 24ms/step\n",
      "1/1 [==============================] - 0s 24ms/step\n",
      "1/1 [==============================] - 0s 24ms/step\n",
      "1/1 [==============================] - 0s 32ms/step\n",
      "1/1 [==============================] - 0s 16ms/step\n",
      "1/1 [==============================] - 0s 17ms/step\n",
      "1/1 [==============================] - 0s 22ms/step\n",
      "1/1 [==============================] - 0s 16ms/step\n",
      "1/1 [==============================] - 0s 33ms/step\n",
      "1/1 [==============================] - 0s 16ms/step\n",
      "1/1 [==============================] - 0s 24ms/step\n",
      "1/1 [==============================] - 0s 16ms/step\n",
      "1/1 [==============================] - 0s 22ms/step\n",
      "1/1 [==============================] - 0s 16ms/step\n",
      "1/1 [==============================] - 0s 16ms/step\n",
      "1/1 [==============================] - 0s 24ms/step\n",
      "1/1 [==============================] - 0s 23ms/step\n",
      "1/1 [==============================] - 0s 15ms/step\n",
      "1/1 [==============================] - 0s 16ms/step\n",
      "1/1 [==============================] - 0s 24ms/step\n",
      "1/1 [==============================] - 0s 16ms/step\n",
      "1/1 [==============================] - 0s 16ms/step\n",
      "1/1 [==============================] - 0s 15ms/step\n",
      "1/1 [==============================] - 0s 17ms/step\n",
      "1/1 [==============================] - 0s 16ms/step\n",
      "1/1 [==============================] - 0s 22ms/step\n",
      "1/1 [==============================] - 0s 16ms/step\n",
      "1/1 [==============================] - 0s 16ms/step\n",
      "1/1 [==============================] - 0s 16ms/step\n",
      "1/1 [==============================] - 0s 17ms/step\n",
      "1/1 [==============================] - 0s 17ms/step\n",
      "1/1 [==============================] - 0s 24ms/step\n",
      "1/1 [==============================] - 0s 16ms/step\n",
      "1/1 [==============================] - 0s 16ms/step\n",
      "1/1 [==============================] - 0s 16ms/step\n",
      "1/1 [==============================] - 0s 16ms/step\n",
      "1/1 [==============================] - 0s 40ms/step\n",
      "1/1 [==============================] - 0s 16ms/step\n",
      "1/1 [==============================] - 0s 16ms/step\n",
      "1/1 [==============================] - 0s 16ms/step\n",
      "1/1 [==============================] - 0s 16ms/step\n",
      "1/1 [==============================] - 0s 17ms/step\n",
      "1/1 [==============================] - 0s 16ms/step\n",
      "1/1 [==============================] - 0s 16ms/step\n",
      "1/1 [==============================] - 0s 24ms/step\n",
      "1/1 [==============================] - 0s 18ms/step\n",
      "1/1 [==============================] - 0s 24ms/step\n",
      "1/1 [==============================] - 0s 18ms/step\n",
      "1/1 [==============================] - 0s 27ms/step\n",
      "1/1 [==============================] - 0s 20ms/step\n",
      "1/1 [==============================] - 0s 24ms/step\n",
      "1/1 [==============================] - 0s 18ms/step\n",
      "1/1 [==============================] - 0s 24ms/step\n",
      "1/1 [==============================] - 0s 13ms/step\n",
      "1/1 [==============================] - 0s 23ms/step\n",
      "1/1 [==============================] - 0s 20ms/step\n",
      "1/1 [==============================] - 0s 21ms/step\n",
      "1/1 [==============================] - 0s 16ms/step\n",
      "1/1 [==============================] - 0s 24ms/step\n",
      "1/1 [==============================] - 0s 16ms/step\n",
      "1/1 [==============================] - 0s 24ms/step\n",
      "1/1 [==============================] - 0s 16ms/step\n",
      "1/1 [==============================] - 0s 16ms/step\n"
     ]
    }
   ],
   "source": [
    "from copy import deepcopy\n",
    "\n",
    "recursive_predictions = []\n",
    "recursive_dates = np.concatenate([dates_val, dates_test])\n",
    "\n",
    "for target_date in recursive_dates:\n",
    "  last_window = deepcopy(X_train[-1])\n",
    "  next_prediction = model.predict(np.array([last_window])).flatten()\n",
    "  recursive_predictions.append(next_prediction)\n",
    "  last_window[-1] = next_prediction\n"
   ]
  },
  {
   "cell_type": "code",
   "execution_count": 18,
   "metadata": {},
   "outputs": [
    {
     "data": {
      "text/plain": [
       "<matplotlib.legend.Legend at 0x2786bf10970>"
      ]
     },
     "execution_count": 18,
     "metadata": {},
     "output_type": "execute_result"
    },
    {
     "data": {
      "image/png": "[encoded data removed]",
      "text/plain": [
       "<Figure size 432x288 with 1 Axes>"
      ]
     },
     "metadata": {
      "needs_background": "light"
     },
     "output_type": "display_data"
    }
   ],
   "source": [
    "plt.plot(dates_train, train_predictions)\n",
    "plt.plot(dates_train, y_train)\n",
    "plt.plot(dates_val, val_predictions)\n",
    "plt.plot(dates_val, y_val)\n",
    "plt.plot(dates_test, test_predictions)\n",
    "plt.plot(dates_test, y_test)\n",
    "plt.plot(recursive_dates, recursive_predictions)\n",
    "plt.legend(['Training Predictions',\n",
    "            'Training Observations',\n",
    "            'Validation Predictions',\n",
    "            'Validation Observations',\n",
    "            'Testing Predictions',\n",
    "            'Testing Observations',\n",
    "            'Recursive Predictions'])\n"
   ]
  },
  {
   "cell_type": "code",
   "execution_count": null,
   "metadata": {},
   "outputs": [],
   "source": []
  }
 ],
 "metadata": {
  "kernelspec": {
   "display_name": "Python 3",
   "language": "python",
   "name": "python3"
  },
  "language_info": {
   "codemirror_mode": {
    "name": "ipython",
    "version": 3
   },
   "file_extension": ".py",
   "mimetype": "text/x-python",
   "name": "python",
   "nbconvert_exporter": "python",
   "pygments_lexer": "ipython3",
   "version": "3.9.0"
  },
  "orig_nbformat": 4
 },
 "nbformat": 4,
 "nbformat_minor": 2
}
